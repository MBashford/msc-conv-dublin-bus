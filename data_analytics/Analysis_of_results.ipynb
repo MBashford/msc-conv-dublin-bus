{
 "cells": [
  {
   "cell_type": "code",
   "execution_count": 1,
   "metadata": {},
   "outputs": [],
   "source": [
    "import pandas as pd\n",
    "import pickle\n",
    "import numpy as np\n",
    "import os\n",
    "import csv\n",
    "from datetime import datetime\n",
    "from sklearn.linear_model import LinearRegression\n",
    "from sklearn.linear_model import LogisticRegression\n",
    "from sklearn.tree import DecisionTreeClassifier\n",
    "from sklearn.ensemble import RandomForestClassifier\n",
    "from sklearn.model_selection import train_test_split\n",
    "from sklearn import metrics\n",
    "from sklearn.model_selection import cross_validate\n",
    "from sklearn.model_selection import cross_val_score\n",
    "from sklearn.tree import export_graphviz\n",
    "import matplotlib.pyplot as plt\n",
    "import matplotlib.patches as mpatches\n",
    "\n",
    "# ignore warnings\n",
    "import warnings\n",
    "warnings.filterwarnings('ignore')"
   ]
  },
  {
   "cell_type": "code",
   "execution_count": 2,
   "metadata": {},
   "outputs": [
    {
     "name": "stdout",
     "output_type": "stream",
     "text": [
      "4\n"
     ]
    }
   ],
   "source": [
    "files = os.listdir(\"/Users/laura/Desktop/Results/\")\n",
    "files\n",
    "print(len(files))"
   ]
  },
  {
   "cell_type": "code",
   "execution_count": 3,
   "metadata": {},
   "outputs": [],
   "source": [
    "def return_results(file):\n",
    "    filepath = \"/Users/laura/Desktop/Results/\" + file\n",
    "    df = pd.read_csv(filepath, keep_default_na=True, sep=',\\s+', delimiter=',', skipinitialspace=True)\n",
    "    columns = ['Mean_Absolute_Error', 'Mean_Squared_Error', 'Root_Mean_Squared_Error', 'R2']\n",
    "    \n",
    "    print()\n",
    "    print(\"======================================================\")\n",
    "    print()\n",
    "    print(file)\n",
    "    description = df.describe()\n",
    "    print(description)\n"
   ]
  },
  {
   "cell_type": "code",
   "execution_count": 4,
   "metadata": {},
   "outputs": [
    {
     "name": "stdout",
     "output_type": "stream",
     "text": [
      "\n",
      "======================================================\n",
      "\n",
      "Linear_regression_results_without_weather 2.csv\n",
      "        Direction  Mean_Absolute_Error  Mean_Squared_Error  \\\n",
      "count  248.000000           248.000000        2.480000e+02   \n",
      "mean     1.512097           343.996754        2.372078e+05   \n",
      "std      0.500864           129.403712        1.886428e+05   \n",
      "min      1.000000           122.431373        1.525225e+04   \n",
      "25%      1.000000           253.881886        1.164469e+05   \n",
      "50%      2.000000           326.567677        1.967760e+05   \n",
      "75%      2.000000           424.841418        3.175219e+05   \n",
      "max      2.000000           959.022222        1.547161e+06   \n",
      "\n",
      "       Root_Mean_Squared_Error          R2  \n",
      "count               248.000000  248.000000  \n",
      "mean                458.016586    0.388716  \n",
      "std                 165.950656    0.260527  \n",
      "min                 123.500000   -1.177041  \n",
      "25%                 341.242636    0.305576  \n",
      "50%                 443.593584    0.453584  \n",
      "75%                 563.490692    0.534254  \n",
      "max                1243.849345    0.901209  \n",
      "\n",
      "======================================================\n",
      "\n",
      "Predicted_JourneyTime.csv\n",
      "        Direction  Mean_Absolute_Error  Mean_Squared_Error  \\\n",
      "count  252.000000           252.000000        2.520000e+02   \n",
      "mean     1.507937           491.825204        4.974541e+05   \n",
      "std      0.500932           209.821487        6.012093e+05   \n",
      "min      1.000000           142.934125        3.748240e+04   \n",
      "25%      1.000000           361.522928        2.390253e+05   \n",
      "50%      2.000000           476.511343        3.924882e+05   \n",
      "75%      2.000000           570.574674        5.656010e+05   \n",
      "max      2.000000          1872.105882        7.808890e+06   \n",
      "\n",
      "       Root_Mean_Squared_Error          R2  \n",
      "count               252.000000  252.000000  \n",
      "mean                651.617244   -0.302013  \n",
      "std                 270.442818    1.503508  \n",
      "min                 193.603715  -18.942865  \n",
      "25%                 488.895257   -0.351146  \n",
      "50%                 626.488384    0.002494  \n",
      "75%                 752.064260    0.277887  \n",
      "max                2794.439157    0.616543  \n",
      "\n",
      "======================================================\n",
      "\n",
      "Linear_regression_results.csv\n",
      "        Direction  Mean_Absolute_Error  Mean_Squared_Error  \\\n",
      "count  252.000000           252.000000        2.520000e+02   \n",
      "mean     1.507937           349.403496        2.485227e+05   \n",
      "std      0.500932           137.880338        1.863458e+05   \n",
      "min      1.000000            14.411294        2.076854e+02   \n",
      "25%      1.000000           251.056480        1.130125e+05   \n",
      "50%      2.000000           334.425087        2.109378e+05   \n",
      "75%      2.000000           428.453358        3.288496e+05   \n",
      "max      2.000000          1186.495066        1.407771e+06   \n",
      "\n",
      "       Root_Mean_Squared_Error          R2  \n",
      "count               252.000000  252.000000  \n",
      "mean                468.380270    0.351221  \n",
      "std                 171.051743    0.456487  \n",
      "min                  14.411294   -3.931428  \n",
      "25%                 336.173276    0.307083  \n",
      "50%                 459.279237    0.451052  \n",
      "75%                 573.453987    0.535441  \n",
      "max                1186.495066    0.870197  \n"
     ]
    }
   ],
   "source": [
    "for file in files:\n",
    "    if file[-4:] == '.csv':\n",
    "        return_results(file)"
   ]
  },
  {
   "cell_type": "code",
   "execution_count": null,
   "metadata": {},
   "outputs": [],
   "source": []
  },
  {
   "cell_type": "code",
   "execution_count": null,
   "metadata": {},
   "outputs": [],
   "source": []
  }
 ],
 "metadata": {
  "kernelspec": {
   "display_name": "Python 3",
   "language": "python",
   "name": "python3"
  },
  "language_info": {
   "codemirror_mode": {
    "name": "ipython",
    "version": 3
   },
   "file_extension": ".py",
   "mimetype": "text/x-python",
   "name": "python",
   "nbconvert_exporter": "python",
   "pygments_lexer": "ipython3",
   "version": "3.7.3"
  }
 },
 "nbformat": 4,
 "nbformat_minor": 2
}
