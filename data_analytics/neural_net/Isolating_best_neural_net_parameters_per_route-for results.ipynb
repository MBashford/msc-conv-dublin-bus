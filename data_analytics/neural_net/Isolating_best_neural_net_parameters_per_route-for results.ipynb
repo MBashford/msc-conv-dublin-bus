{
 "cells": [
  {
   "cell_type": "code",
   "execution_count": 1,
   "metadata": {},
   "outputs": [],
   "source": [
    "import pandas as pd\n",
    "import pickle\n",
    "import numpy as np\n",
    "import os\n",
    "import csv\n",
    "from datetime import datetime\n",
    "from sklearn.linear_model import LinearRegression\n",
    "from sklearn.linear_model import LogisticRegression\n",
    "from sklearn.tree import DecisionTreeClassifier\n",
    "from sklearn.neural_network import MLPRegressor\n",
    "from sklearn.model_selection import train_test_split\n",
    "from sklearn import metrics\n",
    "from sklearn.model_selection import cross_validate\n",
    "from sklearn.model_selection import cross_val_score\n",
    "from sklearn.tree import export_graphviz\n",
    "\n",
    "# ignore warnings\n",
    "import warnings\n",
    "warnings.filterwarnings('ignore')"
   ]
  },
  {
   "cell_type": "code",
   "execution_count": 65,
   "metadata": {},
   "outputs": [],
   "source": [
    "filepath = \"/Users/laura/Desktop/Trimester_3/My_work/linear_regression_weather_scripts_notebooks/neural_network_results_31D_68.csv.csv\"\n",
    "df = pd.read_csv(filepath, keep_default_na=True, sep=',\\s+', delimiter=',', skipinitialspace=True)"
   ]
  },
  {
   "cell_type": "code",
   "execution_count": 60,
   "metadata": {},
   "outputs": [
    {
     "data": {
      "text/html": [
       "<div>\n",
       "<style scoped>\n",
       "    .dataframe tbody tr th:only-of-type {\n",
       "        vertical-align: middle;\n",
       "    }\n",
       "\n",
       "    .dataframe tbody tr th {\n",
       "        vertical-align: top;\n",
       "    }\n",
       "\n",
       "    .dataframe thead th {\n",
       "        text-align: right;\n",
       "    }\n",
       "</style>\n",
       "<table border=\"1\" class=\"dataframe\">\n",
       "  <thead>\n",
       "    <tr style=\"text-align: right;\">\n",
       "      <th></th>\n",
       "      <th>Route</th>\n",
       "      <th>combo</th>\n",
       "      <th>Mean_Absolute_Error</th>\n",
       "      <th>Mean_Squared_Error</th>\n",
       "      <th>Root_Mean_Squared_Error</th>\n",
       "      <th>R2</th>\n",
       "    </tr>\n",
       "  </thead>\n",
       "  <tbody>\n",
       "    <tr>\n",
       "      <th>0</th>\n",
       "      <td>53_2</td>\n",
       "      <td>134_0.82_0.006_3300</td>\n",
       "      <td>134.681995</td>\n",
       "      <td>43864.286937</td>\n",
       "      <td>209.438026</td>\n",
       "      <td>0.275010</td>\n",
       "    </tr>\n",
       "    <tr>\n",
       "      <th>1</th>\n",
       "      <td>53_2</td>\n",
       "      <td>134_0.82_0.006_3000</td>\n",
       "      <td>134.681995</td>\n",
       "      <td>43864.286937</td>\n",
       "      <td>209.438026</td>\n",
       "      <td>0.275010</td>\n",
       "    </tr>\n",
       "    <tr>\n",
       "      <th>2</th>\n",
       "      <td>53_2</td>\n",
       "      <td>134_0.82_0.006_2700</td>\n",
       "      <td>134.681995</td>\n",
       "      <td>43864.286937</td>\n",
       "      <td>209.438026</td>\n",
       "      <td>0.275010</td>\n",
       "    </tr>\n",
       "    <tr>\n",
       "      <th>3</th>\n",
       "      <td>53_2</td>\n",
       "      <td>134_0.82_0.008_3300</td>\n",
       "      <td>134.899327</td>\n",
       "      <td>45271.857242</td>\n",
       "      <td>212.771843</td>\n",
       "      <td>0.251746</td>\n",
       "    </tr>\n",
       "    <tr>\n",
       "      <th>4</th>\n",
       "      <td>53_2</td>\n",
       "      <td>134_0.82_0.008_3000</td>\n",
       "      <td>134.899327</td>\n",
       "      <td>45271.857242</td>\n",
       "      <td>212.771843</td>\n",
       "      <td>0.251746</td>\n",
       "    </tr>\n",
       "  </tbody>\n",
       "</table>\n",
       "</div>"
      ],
      "text/plain": [
       "  Route                combo  Mean_Absolute_Error  Mean_Squared_Error  \\\n",
       "0  53_2  134_0.82_0.006_3300           134.681995        43864.286937   \n",
       "1  53_2  134_0.82_0.006_3000           134.681995        43864.286937   \n",
       "2  53_2  134_0.82_0.006_2700           134.681995        43864.286937   \n",
       "3  53_2  134_0.82_0.008_3300           134.899327        45271.857242   \n",
       "4  53_2  134_0.82_0.008_3000           134.899327        45271.857242   \n",
       "\n",
       "   Root_Mean_Squared_Error        R2  \n",
       "0               209.438026  0.275010  \n",
       "1               209.438026  0.275010  \n",
       "2               209.438026  0.275010  \n",
       "3               212.771843  0.251746  \n",
       "4               212.771843  0.251746  "
      ]
     },
     "execution_count": 60,
     "metadata": {},
     "output_type": "execute_result"
    }
   ],
   "source": [
    "df.head()"
   ]
  },
  {
   "cell_type": "code",
   "execution_count": 4,
   "metadata": {},
   "outputs": [],
   "source": [
    "#df = df.drop(index=0)"
   ]
  },
  {
   "cell_type": "code",
   "execution_count": 55,
   "metadata": {},
   "outputs": [],
   "source": [
    "df.columns = [\"Route\", \"combo\", \"Mean_Absolute_Error\", \"Mean_Squared_Error\", \"Root_Mean_Squared_Error\", \"R2\"]\n",
    "\n"
   ]
  },
  {
   "cell_type": "code",
   "execution_count": 5,
   "metadata": {},
   "outputs": [
    {
     "data": {
      "text/html": [
       "<div>\n",
       "<style scoped>\n",
       "    .dataframe tbody tr th:only-of-type {\n",
       "        vertical-align: middle;\n",
       "    }\n",
       "\n",
       "    .dataframe tbody tr th {\n",
       "        vertical-align: top;\n",
       "    }\n",
       "\n",
       "    .dataframe thead th {\n",
       "        text-align: right;\n",
       "    }\n",
       "</style>\n",
       "<table border=\"1\" class=\"dataframe\">\n",
       "  <thead>\n",
       "    <tr style=\"text-align: right;\">\n",
       "      <th></th>\n",
       "      <th>Route</th>\n",
       "      <th>combo</th>\n",
       "      <th>Mean_Absolute_Error</th>\n",
       "      <th>Mean_Squared_Error</th>\n",
       "      <th>Root_Mean_Squared_Error</th>\n",
       "      <th>R2</th>\n",
       "    </tr>\n",
       "  </thead>\n",
       "  <tbody>\n",
       "    <tr>\n",
       "      <th>1</th>\n",
       "      <td>31D_2</td>\n",
       "      <td>20_0.4_0.005_300</td>\n",
       "      <td>841.2214064059585</td>\n",
       "      <td>929923.601501805</td>\n",
       "      <td>964.3254645096773</td>\n",
       "      <td>-3.4715508207088295</td>\n",
       "    </tr>\n",
       "    <tr>\n",
       "      <th>2</th>\n",
       "      <td>51D_1</td>\n",
       "      <td>20_0.4_0.005_300</td>\n",
       "      <td>802.3565730195891</td>\n",
       "      <td>952533.0213334553</td>\n",
       "      <td>975.9779819921428</td>\n",
       "      <td>-18.209696377266503</td>\n",
       "    </tr>\n",
       "    <tr>\n",
       "      <th>3</th>\n",
       "      <td>161_1</td>\n",
       "      <td>20_0.4_0.005_300</td>\n",
       "      <td>673.3089352823497</td>\n",
       "      <td>709674.4710275367</td>\n",
       "      <td>842.4217892644614</td>\n",
       "      <td>-6.083427158873969</td>\n",
       "    </tr>\n",
       "    <tr>\n",
       "      <th>4</th>\n",
       "      <td>51D_1</td>\n",
       "      <td>20_0.4_0.005_700</td>\n",
       "      <td>764.3951200605117</td>\n",
       "      <td>841895.0745924324</td>\n",
       "      <td>917.5484044956061</td>\n",
       "      <td>-15.978465210367968</td>\n",
       "    </tr>\n",
       "    <tr>\n",
       "      <th>5</th>\n",
       "      <td>161_1</td>\n",
       "      <td>20_0.4_0.005_700</td>\n",
       "      <td>570.6758834132652</td>\n",
       "      <td>523603.96774343384</td>\n",
       "      <td>723.6048422609082</td>\n",
       "      <td>-4.226213872732215</td>\n",
       "    </tr>\n",
       "  </tbody>\n",
       "</table>\n",
       "</div>"
      ],
      "text/plain": [
       "   Route             combo Mean_Absolute_Error  Mean_Squared_Error  \\\n",
       "1  31D_2  20_0.4_0.005_300   841.2214064059585    929923.601501805   \n",
       "2  51D_1  20_0.4_0.005_300   802.3565730195891   952533.0213334553   \n",
       "3  161_1  20_0.4_0.005_300   673.3089352823497   709674.4710275367   \n",
       "4  51D_1  20_0.4_0.005_700   764.3951200605117   841895.0745924324   \n",
       "5  161_1  20_0.4_0.005_700   570.6758834132652  523603.96774343384   \n",
       "\n",
       "  Root_Mean_Squared_Error                   R2  \n",
       "1       964.3254645096773  -3.4715508207088295  \n",
       "2       975.9779819921428  -18.209696377266503  \n",
       "3       842.4217892644614   -6.083427158873969  \n",
       "4       917.5484044956061  -15.978465210367968  \n",
       "5       723.6048422609082   -4.226213872732215  "
      ]
     },
     "execution_count": 5,
     "metadata": {},
     "output_type": "execute_result"
    }
   ],
   "source": [
    "#df.head()"
   ]
  },
  {
   "cell_type": "code",
   "execution_count": 66,
   "metadata": {},
   "outputs": [],
   "source": [
    "routes = list(df['Route'].unique())"
   ]
  },
  {
   "cell_type": "code",
   "execution_count": 67,
   "metadata": {},
   "outputs": [
    {
     "data": {
      "text/plain": [
       "16"
      ]
     },
     "execution_count": 67,
     "metadata": {},
     "output_type": "execute_result"
    }
   ],
   "source": [
    "len(routes)"
   ]
  },
  {
   "cell_type": "code",
   "execution_count": 63,
   "metadata": {},
   "outputs": [],
   "source": [
    "#with open('neural_networks_final_parameters.csv', 'a', newline='') as file:\n",
    "                    #writer = csv.writer(file)\n",
    "                    #writer.writerow([\"Route\", \"MAE\", \"HS\", \"A\", \"L\", \"MX\"])"
   ]
  },
  {
   "cell_type": "code",
   "execution_count": 68,
   "metadata": {
    "scrolled": false
   },
   "outputs": [],
   "source": [
    "for route in routes:\n",
    "    route_frame = df[df['Route']==route]\n",
    "    best_MAE=route_frame['Mean_Absolute_Error'].min()\n",
    "    best_combo_frame = route_frame[route_frame['Mean_Absolute_Error']==best_MAE]\n",
    "    best_combo = list(best_combo_frame['combo'])\n",
    "    list_ideal_parameter = best_combo[0].split('_')\n",
    "    hs = list_ideal_parameter[0]\n",
    "    a = list_ideal_parameter[1]\n",
    "    l = list_ideal_parameter[2]\n",
    "    mx = list_ideal_parameter[3]\n",
    "    with open('neural_networks_final_parameters.csv', 'a', newline='') as file:\n",
    "                    writer = csv.writer(file)\n",
    "                    writer.writerow([route, float(best_MAE), hs, a, l, mx])\n"
   ]
  },
  {
   "cell_type": "code",
   "execution_count": null,
   "metadata": {},
   "outputs": [],
   "source": []
  }
 ],
 "metadata": {
  "kernelspec": {
   "display_name": "Python 3",
   "language": "python",
   "name": "python3"
  },
  "language_info": {
   "codemirror_mode": {
    "name": "ipython",
    "version": 3
   },
   "file_extension": ".py",
   "mimetype": "text/x-python",
   "name": "python",
   "nbconvert_exporter": "python",
   "pygments_lexer": "ipython3",
   "version": "3.7.4"
  }
 },
 "nbformat": 4,
 "nbformat_minor": 4
}
