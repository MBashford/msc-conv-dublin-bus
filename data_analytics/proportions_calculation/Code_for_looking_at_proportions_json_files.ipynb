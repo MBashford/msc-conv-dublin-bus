{
 "cells": [
  {
   "cell_type": "code",
   "execution_count": 322,
   "metadata": {},
   "outputs": [],
   "source": [
    "import pandas as pd\n",
    "import numpy as np\n",
    "#import matplotlib.pyplot as plt\n",
    "#import matplotlib.patches as mpatches\n",
    "import os\n",
    "import json\n",
    "from datetime import datetime\n",
    "import math\n",
    "#from patsy import dmatrices\n",
    "\n",
    "from sklearn.linear_model import LinearRegression\n",
    "from sklearn.linear_model import LogisticRegression\n",
    "from sklearn.tree import DecisionTreeClassifier\n",
    "from sklearn.ensemble import RandomForestClassifier\n",
    "from sklearn.model_selection import train_test_split\n",
    "from sklearn import metrics\n",
    "from sklearn.model_selection import cross_validate\n",
    "from sklearn.model_selection import cross_val_score\n",
    "from sklearn.tree import export_graphviz\n",
    "\n",
    "#import graphviz\n",
    "#from graphviz import Source\n",
    "#from graphviz import render\n",
    "\n",
    "# ignore warnings\n",
    "import warnings\n",
    "warnings.filterwarnings('ignore')"
   ]
  },
  {
   "cell_type": "code",
   "execution_count": 335,
   "metadata": {},
   "outputs": [],
   "source": [
    "f = open('/Users/laura/Desktop/proportions_test/46A_1_proportions.json',) \n",
    "  \n",
    "# returns JSON object as  \n",
    "# a dictionary \n",
    "stop_data = json.load(f) "
   ]
  },
  {
   "cell_type": "code",
   "execution_count": 340,
   "metadata": {},
   "outputs": [],
   "source": [
    "daysofweek = stop_data[\"Tuesday_July_9\"]"
   ]
  },
  {
   "cell_type": "code",
   "execution_count": 341,
   "metadata": {},
   "outputs": [
    {
     "data": {
      "text/plain": [
       "dict_keys(['means', 'max', 'min', 'std', 'medians', 'proportions'])"
      ]
     },
     "execution_count": 341,
     "metadata": {},
     "output_type": "execute_result"
    }
   ],
   "source": [
    "daysofweek.keys()"
   ]
  },
  {
   "cell_type": "code",
   "execution_count": 342,
   "metadata": {},
   "outputs": [
    {
     "data": {
      "text/plain": [
       "{'807_808': 0.01074580395583468,\n",
       " '808_809': 0.010005443447066543,\n",
       " '809_810': 0.01721867011820754,\n",
       " '810_811': 0.02504533835375642,\n",
       " '811_812': 0.007890127707729008,\n",
       " '812_813': 0.009180470308724905,\n",
       " '813_814': 0.019524364274085455,\n",
       " '814_81': 0.053179037686945645,\n",
       " '81_817': 0.01782788105113675,\n",
       " '817_818': 0.005741907056890666,\n",
       " '818_819': 0.014412351237353075,\n",
       " '819_264': 0.031844212000662474,\n",
       " '264_6059': 0.032141517553987406,\n",
       " '6059_334': 0.054372075763932014,\n",
       " '334_406': 0.056326627507079896,\n",
       " '406_747': 0.03010799402323759,\n",
       " '747_842': 0.027224113565274082,\n",
       " '842_845': 0.018731120871833876,\n",
       " '845_846': 0.01679311836358787,\n",
       " '846_847': 0.015242716356991065,\n",
       " '847_848': 0.01231611481644878,\n",
       " '848_2795': 0.015695642785884513,\n",
       " '2795_756': 0.018378360864714942,\n",
       " '756_757': 0.01738540677060238,\n",
       " '757_758': 0.011288320227805954,\n",
       " '758_759': 0.013971038306636383,\n",
       " '759_760': 0.016195386129303005,\n",
       " '760_761': 0.008518500912649864,\n",
       " '761_762': 0.006977897795139696,\n",
       " '762_763': 0.022007216123132885,\n",
       " '763_2007': 0.020180112153280087,\n",
       " '2007_2008': 0.01243805654730471,\n",
       " '2008_2009': 0.0119303807698637,\n",
       " '2009_2010': 0.020518562671574096,\n",
       " '2010_435': 0.015526417526737512,\n",
       " '435_7353': 0.014955282277116377,\n",
       " '7353_4571': 0.026039536751245065,\n",
       " '4571_2013': 0.011866921297683573,\n",
       " '2013_2014': 0.021185700712442086,\n",
       " '2014_4636': 0.008929886751911073,\n",
       " '4636_2016': 0.02614145650959496,\n",
       " '2016_2015': 0.0104708129097208,\n",
       " '2015_2017': 0.008440109799956767,\n",
       " '2017_2018': 0.009963137132279793,\n",
       " '2018_2019': 0.00596519038493185,\n",
       " '2019_2020': 0.006934710098794887,\n",
       " '2020_2021': 0.005991225040185235,\n",
       " '2021_2022': 0.015596928051382094,\n",
       " '2022_4565': 0.026998479886411412,\n",
       " '4565_4566': 0.006684397736306613,\n",
       " '4566_4567': 0.010216975021000297,\n",
       " '4567_2031': 0.01801095201330487,\n",
       " '2031_2032': 0.01421492176834824,\n",
       " '2032_2033': 0.006834097004013577,\n",
       " '2033_2034': 0.005059130143248939,\n",
       " '2034_2035': 0.01682637519927585,\n",
       " '2035_2036': 0.017418663606290363,\n",
       " '2036_2039': 0.008372804299159663}"
      ]
     },
     "execution_count": 342,
     "metadata": {},
     "output_type": "execute_result"
    }
   ],
   "source": [
    "proportions = daysofweek['proportions']\n",
    "proportions"
   ]
  },
  {
   "cell_type": "code",
   "execution_count": 298,
   "metadata": {},
   "outputs": [],
   "source": []
  },
  {
   "cell_type": "code",
   "execution_count": 229,
   "metadata": {},
   "outputs": [],
   "source": [
    "def get_indices(startstop, endstop, dictionary, order_segment_list):\n",
    "    indices = []\n",
    "    for key, value in dictionary.items():\n",
    "        dict_stops = key.split(\"_\")\n",
    "        if dict_stops[0] == str(startstop):\n",
    "            start_index = order_segment_list.index(key)\n",
    "            indices.append(start_index)\n",
    "        if dict_stops[1] == str(endstop):\n",
    "            end_index = order_segment_list.index(key)\n",
    "            indices.append(end_index)\n",
    "            \n",
    "    return indices"
   ]
  },
  {
   "cell_type": "code",
   "execution_count": 308,
   "metadata": {},
   "outputs": [],
   "source": [
    "def segment_calculation(startstop, endstop, dictionary):\n",
    "    \n",
    "    total = 0\n",
    "    count = 0\n",
    "    \n",
    "    order_segment_list = []\n",
    "    order_segments_dict = (dictionary.keys())\n",
    "    for i in order_segments_dict:\n",
    "        order_segment_list.append(i)\n",
    "        \n",
    "    \n",
    "    indices = get_indices(startstop, endstop, dictionary, order_segment_list)\n",
    "    \n",
    "    for i in range(indices[0], indices[1]+1):\n",
    "        value = dictionary[order_segment_list[i]]\n",
    "        if math.isnan(value):\n",
    "            pass\n",
    "        else: total += value\n",
    "    \n",
    "    return total\n",
    "                "
   ]
  },
  {
   "cell_type": "code",
   "execution_count": 334,
   "metadata": {},
   "outputs": [
    {
     "data": {
      "text/plain": [
       "1.0"
      ]
     },
     "execution_count": 334,
     "metadata": {},
     "output_type": "execute_result"
    }
   ],
   "source": [
    "p = segment_calculation(2372, 350, proportions)\n",
    "p"
   ]
  },
  {
   "cell_type": "code",
   "execution_count": null,
   "metadata": {},
   "outputs": [],
   "source": []
  }
 ],
 "metadata": {
  "kernelspec": {
   "display_name": "Python 3",
   "language": "python",
   "name": "python3"
  },
  "language_info": {
   "codemirror_mode": {
    "name": "ipython",
    "version": 3
   },
   "file_extension": ".py",
   "mimetype": "text/x-python",
   "name": "python",
   "nbconvert_exporter": "python",
   "pygments_lexer": "ipython3",
   "version": "3.7.4"
  }
 },
 "nbformat": 4,
 "nbformat_minor": 4
}
