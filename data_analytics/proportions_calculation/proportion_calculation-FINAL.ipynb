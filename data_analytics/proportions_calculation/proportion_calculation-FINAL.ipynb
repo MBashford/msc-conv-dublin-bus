{
 "cells": [
  {
   "cell_type": "code",
   "execution_count": 1,
   "metadata": {},
   "outputs": [],
   "source": [
    "import pandas as pd\n",
    "import numpy as np\n",
    "#import matplotlib.pyplot as plt\n",
    "#import matplotlib.patches as mpatches\n",
    "import os\n",
    "import json\n",
    "import math\n",
    "from datetime import datetime\n",
    "\n",
    "#from patsy import dmatrices\n",
    "\n",
    "from sklearn.linear_model import LinearRegression\n",
    "from sklearn.linear_model import LogisticRegression\n",
    "from sklearn.tree import DecisionTreeClassifier\n",
    "from sklearn.ensemble import RandomForestClassifier\n",
    "from sklearn.model_selection import train_test_split\n",
    "from sklearn import metrics\n",
    "from sklearn.model_selection import cross_validate\n",
    "from sklearn.model_selection import cross_val_score\n",
    "from sklearn.tree import export_graphviz\n",
    "\n",
    "#import graphviz\n",
    "#from graphviz import Source\n",
    "#from graphviz import render\n",
    "\n",
    "# ignore warnings\n",
    "import warnings\n",
    "warnings.filterwarnings('ignore')"
   ]
  },
  {
   "cell_type": "code",
   "execution_count": 2,
   "metadata": {},
   "outputs": [],
   "source": [
    "f = open('/Users/laura/Desktop/Trimester_3/research-project/web_app/journeyplanner/static/journeyplanner/ordered_stops_main.json',) \n",
    "  \n",
    "# returns JSON object as  \n",
    "# a dictionary \n",
    "stop_data = json.load(f) "
   ]
  },
  {
   "cell_type": "code",
   "execution_count": 3,
   "metadata": {},
   "outputs": [],
   "source": [
    "#getting the main subroute (we will need to make provision for the subroutes)\n",
    "subroutes = pd.read_csv(\"/Users/laura/Desktop/Trimester_3/research-project/data_analytics/routes_subroutes-04072020.csv\", keep_default_na=True, sep=',\\s+', delimiter=',', skipinitialspace=True)\n"
   ]
  },
  {
   "cell_type": "code",
   "execution_count": 4,
   "metadata": {},
   "outputs": [],
   "source": [
    "days = {0: \"Monday\", 1: \"Tuesday\", 2: \"Wednesday\", 3:\"Thursday\", 4:\"Friday\", 5:\"Saturday\", 6:\"Sunday\"}\n",
    "months = {1: \"January\", 2: \"Febuary\", 3: \"March\", 4:\"April\", 5:\"May\", 6:\"June\", 7:\"July\", 8:\"August\", 9:\"September\", 10:\"October\", 11:\"November\", 12:\"December\"}\n",
    "times = {0:\"0\", 1:\"1\", 2:\"2\", 3:\"3\", 4:\"4\", 5:\"5\", 6:\"6\", 7:\"7\", 8:\"8\", 9:\"9\", 10:\"10\", 11:\"11\", 12:\"12\", 13:\"13\", 14:\"14\", 15:\"15\", 16:\"16\", 17:\"17\", 18:\"18\", 19:\"19\", 20:\"20\", 21:\"21\", 22:\"22\", 23:\"23\", 24:\"24\", 25:\"25\", 26:\"26\", 27:\"27\", 28:\"28\"}"
   ]
  },
  {
   "cell_type": "code",
   "execution_count": 5,
   "metadata": {},
   "outputs": [],
   "source": [
    "def main_subroute(route, direction):\n",
    "    #print(subroutes['LINEID'])\n",
    "    selection = subroutes[subroutes['LINEID']==str(route)]\n",
    "    #print(\"selection head\", selection.head())\n",
    "    route_direction = selection[selection.DIRECTION == direction]\n",
    "    #print(\"route_direction\", route_direction.head())\n",
    "    subroute_list = list(route_direction.MAINROUTE.unique())\n",
    "    #print(\"subroute list\", subroute_list)\n",
    "    main_subroute = subroute_list[0][2:-2]\n",
    "    return main_subroute"
   ]
  },
  {
   "cell_type": "code",
   "execution_count": 6,
   "metadata": {},
   "outputs": [],
   "source": [
    "def segments(dataframe, list_stops):\n",
    "    nan = 0\n",
    "    journies = 0\n",
    "    #print(dataframe.head())\n",
    "    #print(list(dataframe[\"STOPPOINTID\"].unique()))\n",
    "    dataframe_stops = list(dataframe[\"STOPPOINTID\"].unique())\n",
    "    #print(dataframe_stops)\n",
    "    segments = []\n",
    "    means = []\n",
    "    maxs = []\n",
    "    mins = []\n",
    "    stds = []\n",
    "    medians = []\n",
    "    proportions = []\n",
    "    total_journeytime = 0\n",
    "    segment_dict = {}\n",
    "    for i in range(0,len(list_stops)-1):\n",
    "        if list_stops[i] in dataframe_stops and list_stops[i+1] in dataframe_stops:\n",
    "            segment = (str(list_stops[i]) + \"_\" + str(list_stops[i+1]))\n",
    "            segments.append(segment)\n",
    "        #print(list_stops[i])\n",
    "        #print(type(list_stops[i]))\n",
    "            only_first = dataframe[dataframe[\"STOPPOINTID\"]==list_stops[i]]\n",
    "        #print(list(only_first[\"STOPPOINTID\"].unique()))\n",
    "        #print(only_first.head())\n",
    "            only_last = dataframe[dataframe[\"STOPPOINTID\"]==list_stops[i+1]]\n",
    "            for_merging = only_last[[\"ACTUALTIME_ARR\", \"UNIQUE_TRIP\"]]\n",
    "            for_merging.columns = [\"ACTUALTIME_ARR_LAST\", \"UNIQUE_TRIP\"]\n",
    "        #print(for_merging.head())\n",
    "            result = pd.merge(only_first,\n",
    "                 for_merging[[\"ACTUALTIME_ARR_LAST\", \"UNIQUE_TRIP\"]],\n",
    "                 on='UNIQUE_TRIP', \n",
    "                 how='left')\n",
    "            \n",
    "            reduced_result = result.dropna()\n",
    "                         \n",
    "            reduced_result['ACTUALTIME_ARR_LAST'] = reduced_result['ACTUALTIME_ARR_LAST'].astype('int64')\n",
    "\n",
    "            reduced_result['JOURNEYTIME'] = reduced_result[\"ACTUALTIME_ARR_LAST\"] - reduced_result[\"ACTUALTIME_DEP\"]\n",
    "            \n",
    "            \n",
    "            #total_journeytime += reduced_result['JOURNEYTIME'].mean()\n",
    "            means.append(reduced_result['JOURNEYTIME'].mean())\n",
    "            maxs.append(reduced_result['JOURNEYTIME'].max())\n",
    "            mins.append(reduced_result['JOURNEYTIME'].min())\n",
    "            stds.append(reduced_result['JOURNEYTIME'].std(ddof=0))\n",
    "            \n",
    "            medians.append(reduced_result['JOURNEYTIME'].median())\n",
    "    \n",
    "    for i in means:\n",
    "        if math.isnan(i):\n",
    "            pass\n",
    "        else:\n",
    "            total_journeytime += i\n",
    "            \n",
    "            #print(\"Total journey time: \",total_journeytime)\n",
    "    for i in means:\n",
    "        if total_journeytime > 0:\n",
    "            proportions.append(i/total_journeytime)\n",
    "        \n",
    "    means_dict = dict(zip(segments, means))\n",
    "    max_dict = dict(zip(segments, maxs))\n",
    "    min_dict = dict(zip(segments, mins))\n",
    "    std_dict = dict(zip(segments, stds))\n",
    "    median_dict = dict(zip(segments, medians))\n",
    "    proportions_dict = dict(zip(segments, proportions))\n",
    "    if nan > 0:\n",
    "        print(\"NaN total:\", nan)\n",
    "        \n",
    "    if journies > 0:\n",
    "        print(\"Journey Error\")\n",
    "    \n",
    "    segment_dict['means'] = means_dict\n",
    "    segment_dict['max'] = max_dict\n",
    "    segment_dict['min'] = min_dict\n",
    "    segment_dict['std'] = std_dict\n",
    "    segment_dict['medians'] = median_dict\n",
    "    segment_dict['proportions'] = proportions_dict\n",
    "                           \n",
    "    return segment_dict"
   ]
  },
  {
   "cell_type": "code",
   "execution_count": 11,
   "metadata": {},
   "outputs": [],
   "source": [
    "def function(df, list_stops):    \n",
    "    dictionary = {}\n",
    "    count=0\n",
    "    dictionary = {}\n",
    "    for day in days:\n",
    "        day_of_week = days[day]\n",
    "        temp1 = df[df['DAYOFWEEK']==day]\n",
    "        for month in months:\n",
    "            current_month = months[month]\n",
    "            temp2 = temp1[temp1['MONTH']==month]\n",
    "            for time in times:\n",
    "                current_time = times[time]\n",
    "                dictionary[day_of_week + \"_\" + current_month + \"_\" + current_time] = {}\n",
    "                temp3 = temp2[temp2[\"TIME_GROUP\"]==int(time)]\n",
    "                if temp3.empty:\n",
    "                    pass\n",
    "                    #print('DataFrame is empty!')\n",
    "                else:\n",
    "                    #print(\"dataframe going into segments function: \", temp3.head())\n",
    "                    result = segments(temp3, list_stops)\n",
    "                    dictionary[day_of_week + \"_\" + current_month + \"_\" + current_time]= result\n",
    "                    count+=1\n",
    "                    if count%100 == 0:\n",
    "                        print(count)\n",
    "    return dictionary"
   ]
  },
  {
   "cell_type": "code",
   "execution_count": 7,
   "metadata": {},
   "outputs": [
    {
     "name": "stdout",
     "output_type": "stream",
     "text": [
      "77\n"
     ]
    }
   ],
   "source": [
    "files = os.listdir(\"/Users/laura/Desktop/Master_Route_Direction_3/\")\n",
    "files\n",
    "print(len(files))"
   ]
  },
  {
   "cell_type": "code",
   "execution_count": 8,
   "metadata": {},
   "outputs": [],
   "source": [
    "class NpEncoder(json.JSONEncoder):\n",
    "    def default(self, obj):\n",
    "        if isinstance(obj, np.integer):\n",
    "            return int(obj)\n",
    "        elif isinstance(obj, np.floating):\n",
    "            return float(obj)\n",
    "        elif isinstance(obj, np.ndarray):\n",
    "            return obj.tolist()\n",
    "        else:\n",
    "            return super(NpEncoder, self).default(obj)\n"
   ]
  },
  {
   "cell_type": "code",
   "execution_count": 9,
   "metadata": {},
   "outputs": [],
   "source": [
    "def driver(file, route, direction):\n",
    "    df = pd.read_csv(file, keep_default_na=True, sep=',\\s+', delimiter=',', skipinitialspace=True)\n",
    "    months = list(df[\"MONTH\"].unique())\n",
    "    days = list(df[\"DAYOFWEEK\"].unique())\n",
    "    times = list(df[\"TIME_GROUP\"].unique())\n",
    "    \n",
    "    main_sub = main_subroute(route, direction)\n",
    "    main_subroute_df = df[df['ROUTEID']==main_sub]\n",
    "    \n",
    "    main_route_json = json_data[main_sub]\n",
    "    main_route_json_stops = main_route_json['stops']\n",
    "\n",
    "    final_result = function(main_subroute_df, main_route_json_stops)\n",
    "    return final_result"
   ]
  },
  {
   "cell_type": "code",
   "execution_count": null,
   "metadata": {},
   "outputs": [],
   "source": [
    "for file in files:\n",
    "    if str(file)[-4:] == \".csv\":\n",
    "        route_split = file.split(\"_\", 1)\n",
    "        #print(route_split)\n",
    "        direction = int(file[-5:-4])\n",
    "        route = route_split[0]\n",
    "        json_data = stop_data[str(route)]\n",
    "        print(route, direction, \" in progress.\")\n",
    "        filepath = \"/Users/laura/Desktop/Master_Route_Direction_4/\" + str(file)\n",
    "        result = driver(filepath, route, direction)\n",
    "        \n",
    "        filename = \"/Users/laura/Desktop/proportions_test/\" + str(route)+ '_' + str(direction) + \"_\" + \"proportions.json\"\n",
    "        with open(filename, 'w') as outfile:\n",
    "            json.dump(result, outfile, cls=NpEncoder)"
   ]
  }
 ],
 "metadata": {
  "kernelspec": {
   "display_name": "Python 3",
   "language": "python",
   "name": "python3"
  },
  "language_info": {
   "codemirror_mode": {
    "name": "ipython",
    "version": 3
   },
   "file_extension": ".py",
   "mimetype": "text/x-python",
   "name": "python",
   "nbconvert_exporter": "python",
   "pygments_lexer": "ipython3",
   "version": "3.7.4"
  }
 },
 "nbformat": 4,
 "nbformat_minor": 2
}
