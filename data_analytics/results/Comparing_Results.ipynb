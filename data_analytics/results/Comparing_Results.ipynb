{
 "cells": [
  {
   "cell_type": "code",
   "execution_count": 1,
   "metadata": {},
   "outputs": [],
   "source": [
    "import pandas as pd\n",
    "import pickle\n",
    "import numpy as np\n",
    "import os\n",
    "import csv\n",
    "\n",
    "from datetime import datetime\n",
    "from sklearn.linear_model import LinearRegression\n",
    "from sklearn.linear_model import LogisticRegression\n",
    "from sklearn.tree import DecisionTreeClassifier\n",
    "from sklearn.neural_network import MLPRegressor\n",
    "from sklearn.model_selection import train_test_split\n",
    "from sklearn import metrics\n",
    "from sklearn.model_selection import cross_validate\n",
    "from sklearn.model_selection import cross_val_score\n",
    "from sklearn.tree import export_graphviz\n",
    "\n",
    "# ignore warnings\n",
    "import warnings\n",
    "warnings.filterwarnings('ignore')"
   ]
  },
  {
   "cell_type": "code",
   "execution_count": 2,
   "metadata": {},
   "outputs": [
    {
     "name": "stdout",
     "output_type": "stream",
     "text": [
      "7\n"
     ]
    }
   ],
   "source": [
    "files = os.listdir(\"/Users/laura/Desktop/Trimester_3/My_work/Results_models/\")\n",
    "files\n",
    "print(len(files))"
   ]
  },
  {
   "cell_type": "code",
   "execution_count": 5,
   "metadata": {},
   "outputs": [
    {
     "name": "stdout",
     "output_type": "stream",
     "text": [
      "neural_network_random_forest_combo_results_final.csv\n",
      "MAE Mean 311.13142343795533\n",
      "MAE Max 746.0823494434611\n",
      "MAE Min 3.4895227237466315\n",
      "MAE Median 306.49175240808285\n",
      "MAE STD 117.85906803259792\n",
      "\n",
      "MPE Mean -0.01062596836124928\n",
      "MPE Max 0.050010673371884334\n",
      "MPE Min -0.09533914106032028\n",
      "MPE Median -0.008915504815388636\n",
      "MPE STD 0.01613117975711848\n",
      "\n",
      "\n",
      "Linear_regression_results_final.csv\n",
      "MAE Mean 349.4035183789147\n",
      "MAE Max 1186.4950664305848\n",
      "MAE Min 14.411294327046564\n",
      "MAE Median 334.42508747033605\n",
      "MAE STD 137.88036245236688\n",
      "\n",
      "MPE Mean -0.015283933500738605\n",
      "MPE Max 0.3114977858835875\n",
      "MPE Min -0.09690490543554063\n",
      "MPE Median -0.01494150156699237\n",
      "MPE STD 0.025972261330921995\n",
      "\n",
      "\n",
      "Predicted_JourneyTime_results_final.csv\n",
      "MAE Mean 491.82520389535176\n",
      "MAE Max 1872.105882352941\n",
      "MAE Min 142.9341252699784\n",
      "MAE Median 476.5113430168715\n",
      "MAE STD 209.82148697848842\n",
      "\n",
      "MPE Mean 0.026269948701015327\n",
      "MPE Max 0.4339728412699563\n",
      "MPE Min -0.5816313541877081\n",
      "MPE Median 0.010623795712404323\n",
      "MPE STD 0.08734598487668226\n",
      "\n",
      "\n",
      "neural_network_results_final.csv\n",
      "MAE Mean 319.35175196616166\n",
      "MAE Max 758.2412786755805\n",
      "MAE Min 3.4895227237466315\n",
      "MAE Median 311.3652633397005\n",
      "MAE STD 120.92703291985598\n",
      "\n",
      "MPE Mean -0.008341971401313238\n",
      "MPE Max 0.06872417122198511\n",
      "MPE Min -0.06922440852155412\n",
      "MPE Median -0.006627973075713367\n",
      "MPE STD 0.016115667222859936\n",
      "\n",
      "\n",
      "random_forest_results_optimised_final.csv\n",
      "MAE Mean 329.6787132976034\n",
      "MAE Max 845.3164544753085\n",
      "MAE Min 24.5625\n",
      "MAE Median 317.5350556722185\n",
      "MAE STD 123.9811169415743\n",
      "\n",
      "MPE Mean -0.01647551244601268\n",
      "MPE Max 0.053975781044893666\n",
      "MPE Min -0.1788062118902439\n",
      "MPE Median -0.012109922606267469\n",
      "MPE STD 0.021199372259194736\n",
      "\n",
      "\n"
     ]
    }
   ],
   "source": [
    "for file in files:\n",
    "    if str(file)[-4:] == \".csv\":\n",
    "        filepath = \"/Users/laura/Desktop/Trimester_3/My_work/Results_models/\" + file\n",
    "        df = pd.read_csv(filepath, keep_default_na=True, sep=',\\s+', delimiter=',', skipinitialspace=True)\n",
    "        print(file)\n",
    "        print(\"MAE Mean\", df['Mean_Absolute_Error'].mean())\n",
    "        print(\"MAE Max\", df['Mean_Absolute_Error'].max())\n",
    "        print(\"MAE Min\", df['Mean_Absolute_Error'].min())\n",
    "        print(\"MAE Median\", df['Mean_Absolute_Error'].median())\n",
    "        print(\"MAE STD\", df['Mean_Absolute_Error'].std())\n",
    "        print()\n",
    "        print(\"MPE Mean\", df['MPE'].mean())\n",
    "        print(\"MPE Max\", df['MPE'].max())\n",
    "        print(\"MPE Min\", df['MPE'].min())\n",
    "        print(\"MPE Median\", df['MPE'].median())\n",
    "        print(\"MPE STD\", df['MPE'].std())\n",
    "        print()\n",
    "        print()"
   ]
  },
  {
   "cell_type": "code",
   "execution_count": null,
   "metadata": {},
   "outputs": [],
   "source": []
  }
 ],
 "metadata": {
  "kernelspec": {
   "display_name": "Python 3",
   "language": "python",
   "name": "python3"
  },
  "language_info": {
   "codemirror_mode": {
    "name": "ipython",
    "version": 3
   },
   "file_extension": ".py",
   "mimetype": "text/x-python",
   "name": "python",
   "nbconvert_exporter": "python",
   "pygments_lexer": "ipython3",
   "version": "3.7.4"
  }
 },
 "nbformat": 4,
 "nbformat_minor": 4
}
