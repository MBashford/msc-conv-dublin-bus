{
 "cells": [
  {
   "cell_type": "code",
   "execution_count": 1,
   "metadata": {},
   "outputs": [],
   "source": [
    "import pandas as pd\n",
    "import csv"
   ]
  },
  {
   "cell_type": "code",
   "execution_count": 2,
   "metadata": {},
   "outputs": [],
   "source": [
    "df = pd.read_csv('Trips.csv', keep_default_na=True, sep=',\\s+', delimiter=';', skipinitialspace=True)"
   ]
  },
  {
   "cell_type": "code",
   "execution_count": 3,
   "metadata": {},
   "outputs": [
    {
     "data": {
      "text/html": [
       "<div>\n",
       "<style scoped>\n",
       "    .dataframe tbody tr th:only-of-type {\n",
       "        vertical-align: middle;\n",
       "    }\n",
       "\n",
       "    .dataframe tbody tr th {\n",
       "        vertical-align: top;\n",
       "    }\n",
       "\n",
       "    .dataframe thead th {\n",
       "        text-align: right;\n",
       "    }\n",
       "</style>\n",
       "<table border=\"1\" class=\"dataframe\">\n",
       "  <thead>\n",
       "    <tr style=\"text-align: right;\">\n",
       "      <th></th>\n",
       "      <th>,DATASOURCE</th>\n",
       "      <th>DAYOFSERVICE</th>\n",
       "      <th>TRIPID</th>\n",
       "      <th>LINEID</th>\n",
       "      <th>ROUTEID</th>\n",
       "      <th>DIRECTION</th>\n",
       "      <th>PLANNEDTIME_ARR</th>\n",
       "      <th>PLANNEDTIME_DEP</th>\n",
       "      <th>ACTUALTIME_ARR</th>\n",
       "      <th>ACTUALTIME_DEP</th>\n",
       "      <th>BASIN</th>\n",
       "      <th>TENDERLOT</th>\n",
       "      <th>SUPPRESSED</th>\n",
       "      <th>JUSTIFICATIONID</th>\n",
       "      <th>LASTUPDATE</th>\n",
       "      <th>NOTE</th>\n",
       "    </tr>\n",
       "  </thead>\n",
       "  <tbody>\n",
       "    <tr>\n",
       "      <th>0</th>\n",
       "      <td>0,\"DB</td>\n",
       "      <td>07-FEB-18 00:00:00</td>\n",
       "      <td>6253783</td>\n",
       "      <td>68</td>\n",
       "      <td>68_80</td>\n",
       "      <td>1</td>\n",
       "      <td>87245</td>\n",
       "      <td>84600</td>\n",
       "      <td>87524.0</td>\n",
       "      <td>84600.0</td>\n",
       "      <td>BasDef</td>\n",
       "      <td>NaN</td>\n",
       "      <td>NaN</td>\n",
       "      <td>NaN</td>\n",
       "      <td>28-FEB-18 12:05:11</td>\n",
       "      <td>,2967409,\"</td>\n",
       "    </tr>\n",
       "    <tr>\n",
       "      <th>1</th>\n",
       "      <td>1,\"DB</td>\n",
       "      <td>07-FEB-18 00:00:00</td>\n",
       "      <td>6262138</td>\n",
       "      <td>25B</td>\n",
       "      <td>25B_271</td>\n",
       "      <td>2</td>\n",
       "      <td>30517</td>\n",
       "      <td>26460</td>\n",
       "      <td>32752.0</td>\n",
       "      <td>NaN</td>\n",
       "      <td>BasDef</td>\n",
       "      <td>NaN</td>\n",
       "      <td>NaN</td>\n",
       "      <td>NaN</td>\n",
       "      <td>28-FEB-18 12:05:11</td>\n",
       "      <td>,2580260,\"</td>\n",
       "    </tr>\n",
       "    <tr>\n",
       "      <th>2</th>\n",
       "      <td>2,\"DB</td>\n",
       "      <td>07-FEB-18 00:00:00</td>\n",
       "      <td>6254942</td>\n",
       "      <td>45A</td>\n",
       "      <td>45A_70</td>\n",
       "      <td>2</td>\n",
       "      <td>35512</td>\n",
       "      <td>32100</td>\n",
       "      <td>36329.0</td>\n",
       "      <td>32082.0</td>\n",
       "      <td>BasDef</td>\n",
       "      <td>NaN</td>\n",
       "      <td>NaN</td>\n",
       "      <td>NaN</td>\n",
       "      <td>28-FEB-18 12:05:11</td>\n",
       "      <td>,2448968,\"</td>\n",
       "    </tr>\n",
       "    <tr>\n",
       "      <th>3</th>\n",
       "      <td>3,\"DB</td>\n",
       "      <td>07-FEB-18 00:00:00</td>\n",
       "      <td>6259460</td>\n",
       "      <td>25A</td>\n",
       "      <td>25A_273</td>\n",
       "      <td>1</td>\n",
       "      <td>57261</td>\n",
       "      <td>54420</td>\n",
       "      <td>58463.0</td>\n",
       "      <td>54443.0</td>\n",
       "      <td>BasDef</td>\n",
       "      <td>NaN</td>\n",
       "      <td>NaN</td>\n",
       "      <td>NaN</td>\n",
       "      <td>28-FEB-18 12:05:11</td>\n",
       "      <td>,3094242,\"</td>\n",
       "    </tr>\n",
       "    <tr>\n",
       "      <th>4</th>\n",
       "      <td>4,\"DB</td>\n",
       "      <td>07-FEB-18 00:00:00</td>\n",
       "      <td>6253175</td>\n",
       "      <td>14</td>\n",
       "      <td>14_15</td>\n",
       "      <td>1</td>\n",
       "      <td>85383</td>\n",
       "      <td>81600</td>\n",
       "      <td>84682.0</td>\n",
       "      <td>81608.0</td>\n",
       "      <td>BasDef</td>\n",
       "      <td>NaN</td>\n",
       "      <td>NaN</td>\n",
       "      <td>NaN</td>\n",
       "      <td>28-FEB-18 12:05:11</td>\n",
       "      <td>,2526331,\"</td>\n",
       "    </tr>\n",
       "  </tbody>\n",
       "</table>\n",
       "</div>"
      ],
      "text/plain": [
       "  ,DATASOURCE        DAYOFSERVICE   TRIPID LINEID  ROUTEID  DIRECTION  \\\n",
       "0       0,\"DB  07-FEB-18 00:00:00  6253783     68    68_80          1   \n",
       "1       1,\"DB  07-FEB-18 00:00:00  6262138    25B  25B_271          2   \n",
       "2       2,\"DB  07-FEB-18 00:00:00  6254942    45A   45A_70          2   \n",
       "3       3,\"DB  07-FEB-18 00:00:00  6259460    25A  25A_273          1   \n",
       "4       4,\"DB  07-FEB-18 00:00:00  6253175     14    14_15          1   \n",
       "\n",
       "   PLANNEDTIME_ARR  PLANNEDTIME_DEP  ACTUALTIME_ARR  ACTUALTIME_DEP   BASIN  \\\n",
       "0            87245            84600         87524.0         84600.0  BasDef   \n",
       "1            30517            26460         32752.0             NaN  BasDef   \n",
       "2            35512            32100         36329.0         32082.0  BasDef   \n",
       "3            57261            54420         58463.0         54443.0  BasDef   \n",
       "4            85383            81600         84682.0         81608.0  BasDef   \n",
       "\n",
       "   TENDERLOT  SUPPRESSED  JUSTIFICATIONID          LASTUPDATE        NOTE  \n",
       "0        NaN         NaN              NaN  28-FEB-18 12:05:11  ,2967409,\"  \n",
       "1        NaN         NaN              NaN  28-FEB-18 12:05:11  ,2580260,\"  \n",
       "2        NaN         NaN              NaN  28-FEB-18 12:05:11  ,2448968,\"  \n",
       "3        NaN         NaN              NaN  28-FEB-18 12:05:11  ,3094242,\"  \n",
       "4        NaN         NaN              NaN  28-FEB-18 12:05:11  ,2526331,\"  "
      ]
     },
     "execution_count": 3,
     "metadata": {},
     "output_type": "execute_result"
    }
   ],
   "source": [
    "df.head()"
   ]
  },
  {
   "cell_type": "code",
   "execution_count": 4,
   "metadata": {},
   "outputs": [
    {
     "data": {
      "text/plain": [
       "(2182637, 16)"
      ]
     },
     "execution_count": 4,
     "metadata": {},
     "output_type": "execute_result"
    }
   ],
   "source": [
    "df.shape"
   ]
  },
  {
   "cell_type": "code",
   "execution_count": 5,
   "metadata": {},
   "outputs": [
    {
     "data": {
      "text/plain": [
       ",DATASOURCE         object\n",
       "DAYOFSERVICE        object\n",
       "TRIPID               int64\n",
       "LINEID              object\n",
       "ROUTEID             object\n",
       "DIRECTION            int64\n",
       "PLANNEDTIME_ARR      int64\n",
       "PLANNEDTIME_DEP      int64\n",
       "ACTUALTIME_ARR     float64\n",
       "ACTUALTIME_DEP     float64\n",
       "BASIN               object\n",
       "TENDERLOT          float64\n",
       "SUPPRESSED         float64\n",
       "JUSTIFICATIONID    float64\n",
       "LASTUPDATE          object\n",
       "NOTE                object\n",
       "dtype: object"
      ]
     },
     "execution_count": 5,
     "metadata": {},
     "output_type": "execute_result"
    }
   ],
   "source": [
    "df.dtypes"
   ]
  },
  {
   "cell_type": "code",
   "execution_count": 6,
   "metadata": {},
   "outputs": [
    {
     "data": {
      "text/plain": [
       ",DATASOURCE        2182637\n",
       "DAYOFSERVICE           360\n",
       "TRIPID              658964\n",
       "LINEID                 130\n",
       "ROUTEID                588\n",
       "DIRECTION                2\n",
       "PLANNEDTIME_ARR      64461\n",
       "PLANNEDTIME_DEP        791\n",
       "ACTUALTIME_ARR       68122\n",
       "ACTUALTIME_DEP       66771\n",
       "BASIN                    1\n",
       "TENDERLOT                0\n",
       "SUPPRESSED               1\n",
       "JUSTIFICATIONID       3526\n",
       "LASTUPDATE             360\n",
       "NOTE                 46690\n",
       "dtype: int64"
      ]
     },
     "execution_count": 6,
     "metadata": {},
     "output_type": "execute_result"
    }
   ],
   "source": [
    "df.nunique()"
   ]
  },
  {
   "cell_type": "code",
   "execution_count": 7,
   "metadata": {},
   "outputs": [],
   "source": [
    "list_of_bus_routes = list(df['LINEID'].unique())"
   ]
  },
  {
   "cell_type": "code",
   "execution_count": 8,
   "metadata": {},
   "outputs": [
    {
     "data": {
      "text/plain": [
       "46A    76728\n",
       "145    62730\n",
       "15     58083\n",
       "40     56974\n",
       "39A    55301\n",
       "       ...  \n",
       "68X      243\n",
       "51X      238\n",
       "16D       84\n",
       "41D       36\n",
       "33E       14\n",
       "Name: LINEID, Length: 130, dtype: int64"
      ]
     },
     "execution_count": 8,
     "metadata": {},
     "output_type": "execute_result"
    }
   ],
   "source": [
    "df['LINEID'].value_counts()"
   ]
  },
  {
   "cell_type": "code",
   "execution_count": 9,
   "metadata": {},
   "outputs": [
    {
     "data": {
      "text/plain": [
       ",DATASOURCE              0\n",
       "DAYOFSERVICE             0\n",
       "TRIPID                   0\n",
       "LINEID                   0\n",
       "ROUTEID                  0\n",
       "DIRECTION                0\n",
       "PLANNEDTIME_ARR          0\n",
       "PLANNEDTIME_DEP          0\n",
       "ACTUALTIME_ARR      137207\n",
       "ACTUALTIME_DEP      164551\n",
       "BASIN                    0\n",
       "TENDERLOT          2182637\n",
       "SUPPRESSED         2178304\n",
       "JUSTIFICATIONID    2178307\n",
       "LASTUPDATE               0\n",
       "NOTE                     0\n",
       "dtype: int64"
      ]
     },
     "execution_count": 9,
     "metadata": {},
     "output_type": "execute_result"
    }
   ],
   "source": [
    "df.isna().sum()"
   ]
  },
  {
   "cell_type": "markdown",
   "metadata": {},
   "source": [
    "- Datasource - constant - delete\n",
    "- DAYOFSERVICE - continuous - datetime\n",
    "- TRIPID - ?? needed as key ?? - categorical\n",
    "- LINEID - ROUTE - categorical\n",
    "- ROUTEID - ??? - categorical, but need more info.\n",
    "- DIRECTION - which is which? - category\n",
    "- PLANNEDTIME_ARR\n",
    "- PLANNEDTIME_DEP\n",
    "- ACTUALTIME_ARR\n",
    "- ACTUALTIME_DEP \n",
    "- BASIN - delete\n",
    "- TENDERLOT - delete\n",
    "- SUPRESSED - delete\n",
    "- JUSTIFICATION - delete\n",
    "- LASTUPDATE - delete\n",
    "- NOTE - empty - delete\n",
    "\n",
    "Info:\n",
    "IB = inbound/going/northbound/eastbound\n",
    "OB = outbound/bav=ck/southbound/westbound\n",
    "\n",
    "Times in seconds since 0000 - can be after midnight.\n",
    "\n",
    "Probably remove those without actual times. "
   ]
  },
  {
   "cell_type": "code",
   "execution_count": 10,
   "metadata": {},
   "outputs": [],
   "source": [
    "df['DAYOFSERVICE'] = df['DAYOFSERVICE'].astype('datetime64[ns]')\n",
    "df['TRIPID'] = df['TRIPID'].astype('category')\n",
    "df['LINEID'] = df['LINEID'].astype('category')\n",
    "df['ROUTEID'] = df['ROUTEID'].astype('category')\n",
    "df['DIRECTION'] = df['DIRECTION'].astype('category')\n",
    "df[',DATASOURCE'] = df[',DATASOURCE'].astype('category')\n",
    "del df['NOTE']\n",
    "del df['LASTUPDATE']\n",
    "del df['JUSTIFICATIONID']\n",
    "del df['SUPPRESSED']\n",
    "del df['BASIN']\n",
    "del df['TENDERLOT']\n",
    "del df['PLANNEDTIME_ARR']\n",
    "del df['PLANNEDTIME_DEP']"
   ]
  },
  {
   "cell_type": "code",
   "execution_count": 11,
   "metadata": {},
   "outputs": [
    {
     "data": {
      "text/html": [
       "<div>\n",
       "<style scoped>\n",
       "    .dataframe tbody tr th:only-of-type {\n",
       "        vertical-align: middle;\n",
       "    }\n",
       "\n",
       "    .dataframe tbody tr th {\n",
       "        vertical-align: top;\n",
       "    }\n",
       "\n",
       "    .dataframe thead th {\n",
       "        text-align: right;\n",
       "    }\n",
       "</style>\n",
       "<table border=\"1\" class=\"dataframe\">\n",
       "  <thead>\n",
       "    <tr style=\"text-align: right;\">\n",
       "      <th></th>\n",
       "      <th>,DATASOURCE</th>\n",
       "      <th>DAYOFSERVICE</th>\n",
       "      <th>TRIPID</th>\n",
       "      <th>LINEID</th>\n",
       "      <th>ROUTEID</th>\n",
       "      <th>DIRECTION</th>\n",
       "      <th>ACTUALTIME_ARR</th>\n",
       "      <th>ACTUALTIME_DEP</th>\n",
       "    </tr>\n",
       "  </thead>\n",
       "  <tbody>\n",
       "    <tr>\n",
       "      <th>0</th>\n",
       "      <td>0,\"DB</td>\n",
       "      <td>2018-02-07</td>\n",
       "      <td>6253783</td>\n",
       "      <td>68</td>\n",
       "      <td>68_80</td>\n",
       "      <td>1</td>\n",
       "      <td>87524.0</td>\n",
       "      <td>84600.0</td>\n",
       "    </tr>\n",
       "    <tr>\n",
       "      <th>1</th>\n",
       "      <td>1,\"DB</td>\n",
       "      <td>2018-02-07</td>\n",
       "      <td>6262138</td>\n",
       "      <td>25B</td>\n",
       "      <td>25B_271</td>\n",
       "      <td>2</td>\n",
       "      <td>32752.0</td>\n",
       "      <td>NaN</td>\n",
       "    </tr>\n",
       "    <tr>\n",
       "      <th>2</th>\n",
       "      <td>2,\"DB</td>\n",
       "      <td>2018-02-07</td>\n",
       "      <td>6254942</td>\n",
       "      <td>45A</td>\n",
       "      <td>45A_70</td>\n",
       "      <td>2</td>\n",
       "      <td>36329.0</td>\n",
       "      <td>32082.0</td>\n",
       "    </tr>\n",
       "    <tr>\n",
       "      <th>3</th>\n",
       "      <td>3,\"DB</td>\n",
       "      <td>2018-02-07</td>\n",
       "      <td>6259460</td>\n",
       "      <td>25A</td>\n",
       "      <td>25A_273</td>\n",
       "      <td>1</td>\n",
       "      <td>58463.0</td>\n",
       "      <td>54443.0</td>\n",
       "    </tr>\n",
       "    <tr>\n",
       "      <th>4</th>\n",
       "      <td>4,\"DB</td>\n",
       "      <td>2018-02-07</td>\n",
       "      <td>6253175</td>\n",
       "      <td>14</td>\n",
       "      <td>14_15</td>\n",
       "      <td>1</td>\n",
       "      <td>84682.0</td>\n",
       "      <td>81608.0</td>\n",
       "    </tr>\n",
       "  </tbody>\n",
       "</table>\n",
       "</div>"
      ],
      "text/plain": [
       "  ,DATASOURCE DAYOFSERVICE   TRIPID LINEID  ROUTEID DIRECTION  ACTUALTIME_ARR  \\\n",
       "0       0,\"DB   2018-02-07  6253783     68    68_80         1         87524.0   \n",
       "1       1,\"DB   2018-02-07  6262138    25B  25B_271         2         32752.0   \n",
       "2       2,\"DB   2018-02-07  6254942    45A   45A_70         2         36329.0   \n",
       "3       3,\"DB   2018-02-07  6259460    25A  25A_273         1         58463.0   \n",
       "4       4,\"DB   2018-02-07  6253175     14    14_15         1         84682.0   \n",
       "\n",
       "   ACTUALTIME_DEP  \n",
       "0         84600.0  \n",
       "1             NaN  \n",
       "2         32082.0  \n",
       "3         54443.0  \n",
       "4         81608.0  "
      ]
     },
     "execution_count": 11,
     "metadata": {},
     "output_type": "execute_result"
    }
   ],
   "source": [
    "df.head()"
   ]
  },
  {
   "cell_type": "code",
   "execution_count": 12,
   "metadata": {},
   "outputs": [
    {
     "data": {
      "text/plain": [
       ",DATASOURCE             category\n",
       "DAYOFSERVICE      datetime64[ns]\n",
       "TRIPID                  category\n",
       "LINEID                  category\n",
       "ROUTEID                 category\n",
       "DIRECTION               category\n",
       "ACTUALTIME_ARR           float64\n",
       "ACTUALTIME_DEP           float64\n",
       "dtype: object"
      ]
     },
     "execution_count": 12,
     "metadata": {},
     "output_type": "execute_result"
    }
   ],
   "source": [
    "df.dtypes"
   ]
  },
  {
   "cell_type": "code",
   "execution_count": 13,
   "metadata": {},
   "outputs": [
    {
     "data": {
      "text/plain": [
       "['68', '25B', '45A', '25A', '14', '77A', '39', '16', '40D', '27B']"
      ]
     },
     "execution_count": 13,
     "metadata": {},
     "output_type": "execute_result"
    }
   ],
   "source": [
    "list_of_bus_routes[0:10]"
   ]
  },
  {
   "cell_type": "code",
   "execution_count": 14,
   "metadata": {},
   "outputs": [],
   "source": [
    "SixtyEight = df.loc[df['LINEID'] == '68']\n",
    "TwentyFiveB = df.loc[df['LINEID'] == '25B']\n",
    "FortyFiveA = df.loc[df['LINEID'] == '45A']\n",
    "TwentyFiveA = df.loc[df['LINEID'] == '25A']\n",
    "Fourteen = df.loc[df['LINEID'] == '14']\n",
    "SeventySevenA = df.loc[df['LINEID'] == '77A']\n",
    "ThirtyNine = df.loc[df['LINEID'] == '39']\n",
    "Sixteen = df.loc[df['LINEID'] == '16']\n",
    "FortyD = df.loc[df['LINEID'] == '40D']\n",
    "TwentySevenB = df.loc[df['LINEID'] == '27B']"
   ]
  },
  {
   "cell_type": "code",
   "execution_count": 15,
   "metadata": {},
   "outputs": [
    {
     "data": {
      "text/plain": [
       "['142', '83', '130', '15', '46A', '33', '7', '39A', '49', '1']"
      ]
     },
     "execution_count": 15,
     "metadata": {},
     "output_type": "execute_result"
    }
   ],
   "source": [
    "list_of_bus_routes[10:20]"
   ]
  },
  {
   "cell_type": "code",
   "execution_count": 16,
   "metadata": {},
   "outputs": [],
   "source": [
    "OneFortyTwo = df.loc[df['LINEID'] == '142']\n",
    "EightyThree = df.loc[df['LINEID'] == '83']\n",
    "OneThirty = df.loc[df['LINEID'] == '130']\n",
    "Fifteen = df.loc[df['LINEID'] == '15']\n",
    "FortySixA = df.loc[df['LINEID'] == '46A']\n",
    "ThirtyThree = df.loc[df['LINEID'] == '33']\n",
    "Seven = df.loc[df['LINEID'] == '7']\n",
    "ThirtyNineA = df.loc[df['LINEID'] == '39A']\n",
    "FortyNine = df.loc[df['LINEID'] == '49']\n",
    "One = df.loc[df['LINEID'] == '1']"
   ]
  },
  {
   "cell_type": "code",
   "execution_count": 17,
   "metadata": {},
   "outputs": [
    {
     "data": {
      "text/plain": [
       "['123', '41', '67X', '59', '9', '40', '239', '76', '84', '53']"
      ]
     },
     "execution_count": 17,
     "metadata": {},
     "output_type": "execute_result"
    }
   ],
   "source": [
    "list_of_bus_routes[20:30]"
   ]
  },
  {
   "cell_type": "code",
   "execution_count": 18,
   "metadata": {},
   "outputs": [],
   "source": [
    "OneTwentyThree = df.loc[df['LINEID'] == '123']\n",
    "FortyOne = df.loc[df['LINEID'] == '41']\n",
    "SixtySevenX = df.loc[df['LINEID'] == '67X']\n",
    "FiftyNine = df.loc[df['LINEID'] == '59']\n",
    "Nine = df.loc[df['LINEID'] == '9']\n",
    "Forty = df.loc[df['LINEID'] == '40']\n",
    "TwoThirtyNine = df.loc[df['LINEID'] == '239']\n",
    "SeventySix = df.loc[df['LINEID'] == '76']\n",
    "EightyFour = df.loc[df['LINEID'] == '84']\n",
    "FiftyThree = df.loc[df['LINEID'] == '53']"
   ]
  },
  {
   "cell_type": "code",
   "execution_count": 19,
   "metadata": {},
   "outputs": [
    {
     "data": {
      "text/plain": [
       "['185', '151', '13', '15B', '65B', '29A', '61', '140', '79A', '38A']"
      ]
     },
     "execution_count": 19,
     "metadata": {},
     "output_type": "execute_result"
    }
   ],
   "source": [
    "list_of_bus_routes[30:40]"
   ]
  },
  {
   "cell_type": "code",
   "execution_count": 20,
   "metadata": {},
   "outputs": [],
   "source": [
    "OneEightyFive = df.loc[df['LINEID'] == '185']\n",
    "OneFiftyOne = df.loc[df['LINEID'] == '151']\n",
    "Thirteen = df.loc[df['LINEID'] == '13']\n",
    "FifteenB = df.loc[df['LINEID'] == '15B']\n",
    "SixtyFiveB = df.loc[df['LINEID'] == '65B']\n",
    "TwentyNineA = df.loc[df['LINEID'] == '29A']\n",
    "SixtyOne = df.loc[df['LINEID'] == '61']\n",
    "OneForty = df.loc[df['LINEID'] == '140']\n",
    "SeventyNineA = df.loc[df['LINEID'] == '79A']\n",
    "ThirtyEightA = df.loc[df['LINEID'] == '38A']"
   ]
  },
  {
   "cell_type": "code",
   "execution_count": 21,
   "metadata": {},
   "outputs": [
    {
     "data": {
      "text/plain": [
       "['31', '33B', '69', '44', '42', '67', '184', '238', '145', '17A']"
      ]
     },
     "execution_count": 21,
     "metadata": {},
     "output_type": "execute_result"
    }
   ],
   "source": [
    "list_of_bus_routes[40:50]"
   ]
  },
  {
   "cell_type": "code",
   "execution_count": 22,
   "metadata": {},
   "outputs": [],
   "source": [
    "ThirtyOne = df.loc[df['LINEID'] == '31']\n",
    "ThirtyThreeB = df.loc[df['LINEID'] == '33B']\n",
    "SixtyNine = df.loc[df['LINEID'] == '69']\n",
    "FortyFour = df.loc[df['LINEID'] == '44']\n",
    "FortyTwo = df.loc[df['LINEID'] == '42']\n",
    "SixtySeven = df.loc[df['LINEID'] == '67']\n",
    "OneEightyFour = df.loc[df['LINEID'] == '184']\n",
    "TwoThirtyEight = df.loc[df['LINEID'] == '238']\n",
    "OneFortyFive = df.loc[df['LINEID'] == '145']\n",
    "SeventeenA = df.loc[df['LINEID'] == '17A']"
   ]
  },
  {
   "cell_type": "code",
   "execution_count": 23,
   "metadata": {},
   "outputs": [
    {
     "data": {
      "text/plain": [
       "['32', '27A', '17', '27X', '18', '122', '54A', '66', '150', '56A']"
      ]
     },
     "execution_count": 23,
     "metadata": {},
     "output_type": "execute_result"
    }
   ],
   "source": [
    "list_of_bus_routes[50:60]"
   ]
  },
  {
   "cell_type": "code",
   "execution_count": 24,
   "metadata": {},
   "outputs": [],
   "source": [
    "ThirtyTwo = df.loc[df['LINEID'] == '32']\n",
    "TwentySevenA = df.loc[df['LINEID'] == '27A']\n",
    "Seventeen = df.loc[df['LINEID'] == '17']\n",
    "TwentySevenX = df.loc[df['LINEID'] == '27X']\n",
    "Eighteen = df.loc[df['LINEID'] == '18']\n",
    "OneTwentyTwo = df.loc[df['LINEID'] == '122']\n",
    "FiftyFourA = df.loc[df['LINEID'] == '54A']\n",
    "SixtySix = df.loc[df['LINEID'] == '66']\n",
    "OneFifty = df.loc[df['LINEID'] == '150']\n",
    "FiftySixA = df.loc[df['LINEID'] == '56A']"
   ]
  },
  {
   "cell_type": "code",
   "execution_count": 25,
   "metadata": {},
   "outputs": [
    {
     "data": {
      "text/plain": [
       "['37', '27', '15A', '65', '11', '47', '79', '83A', '63', '4']"
      ]
     },
     "execution_count": 25,
     "metadata": {},
     "output_type": "execute_result"
    }
   ],
   "source": [
    "list_of_bus_routes[60:70]"
   ]
  },
  {
   "cell_type": "code",
   "execution_count": 26,
   "metadata": {},
   "outputs": [],
   "source": [
    "ThirtySeven = df.loc[df['LINEID'] == '37']\n",
    "TwentySeven = df.loc[df['LINEID'] == '27']\n",
    "FifteenA = df.loc[df['LINEID'] == '15A']\n",
    "SixtyFive = df.loc[df['LINEID'] == '65']\n",
    "Eleven = df.loc[df['LINEID'] == '11']\n",
    "FortySeven = df.loc[df['LINEID'] == '47']\n",
    "SeventyNine = df.loc[df['LINEID'] == '79']\n",
    "EightyThreeA = df.loc[df['LINEID'] == '83A']\n",
    "SixtyThree = df.loc[df['LINEID'] == '63']\n",
    "Four = df.loc[df['LINEID'] == '4']"
   ]
  },
  {
   "cell_type": "code",
   "execution_count": 27,
   "metadata": {},
   "outputs": [
    {
     "data": {
      "text/plain": [
       "['120', '41C', '70', '84A', '220', '39X', '32X', '68A', '84X', '38']"
      ]
     },
     "execution_count": 27,
     "metadata": {},
     "output_type": "execute_result"
    }
   ],
   "source": [
    "list_of_bus_routes[70:80]"
   ]
  },
  {
   "cell_type": "code",
   "execution_count": 28,
   "metadata": {},
   "outputs": [],
   "source": [
    "OneTwenty = df.loc[df['LINEID'] == '120']\n",
    "FortyOneC = df.loc[df['LINEID'] == '41C']\n",
    "Seventy = df.loc[df['LINEID'] == '70']\n",
    "EightyFourA = df.loc[df['LINEID'] == '84A']\n",
    "TwoTwenty = df.loc[df['LINEID'] == '220']\n",
    "ThirtyNineX = df.loc[df['LINEID'] == '39X']\n",
    "ThirtyTwoX = df.loc[df['LINEID'] == '32X']\n",
    "SixtyEightA = df.loc[df['LINEID'] == '68A']\n",
    "EightyFourX = df.loc[df['LINEID'] == '84X']\n",
    "ThirtyEight = df.loc[df['LINEID'] == '38']"
   ]
  },
  {
   "cell_type": "code",
   "execution_count": 29,
   "metadata": {},
   "outputs": [
    {
     "data": {
      "text/plain": [
       "['102', '270', '51X', '33X', '75', '26', '66A', '31A', '111', '14C']"
      ]
     },
     "execution_count": 29,
     "metadata": {},
     "output_type": "execute_result"
    }
   ],
   "source": [
    "list_of_bus_routes[80:90]"
   ]
  },
  {
   "cell_type": "code",
   "execution_count": 30,
   "metadata": {},
   "outputs": [],
   "source": [
    "OneOTwo = df.loc[df['LINEID'] == '102']\n",
    "TwoSeventy = df.loc[df['LINEID'] == '270']\n",
    "FiftyOneX = df.loc[df['LINEID'] == '51X']\n",
    "ThirtyThreeX = df.loc[df['LINEID'] == '33X']\n",
    "SeventyFive = df.loc[df['LINEID'] == '75']\n",
    "TwentySix = df.loc[df['LINEID'] == '26']\n",
    "SixtySixA = df.loc[df['LINEID'] == '66A']\n",
    "ThirtyOneA = df.loc[df['LINEID'] == '31A']\n",
    "OneEleven = df.loc[df['LINEID'] == '111']\n",
    "FourteenC = df.loc[df['LINEID'] == '14C']"
   ]
  },
  {
   "cell_type": "code",
   "execution_count": 31,
   "metadata": {},
   "outputs": [
    {
     "data": {
      "text/plain": [
       "['114', '76A', '44B', '161', '7A', '43', '25', '104', '33A', '16C']"
      ]
     },
     "execution_count": 31,
     "metadata": {},
     "output_type": "execute_result"
    }
   ],
   "source": [
    "list_of_bus_routes[90:100]"
   ]
  },
  {
   "cell_type": "code",
   "execution_count": 32,
   "metadata": {},
   "outputs": [],
   "source": [
    "OneFourteen = df.loc[df['LINEID'] == '114']\n",
    "SeventySixA = df.loc[df['LINEID'] == '76A']\n",
    "FortyFourB = df.loc[df['LINEID'] == '44B']\n",
    "OneSixtyOne = df.loc[df['LINEID'] == '161']\n",
    "SevenA = df.loc[df['LINEID'] == '7A']\n",
    "FortyThree = df.loc[df['LINEID'] == '43']\n",
    "TwentyFive = df.loc[df['LINEID'] == '25']\n",
    "OneOFour = df.loc[df['LINEID'] == '104']\n",
    "ThirtyThreeA = df.loc[df['LINEID'] == '33A']\n",
    "SixteenC = df.loc[df['LINEID'] == '16C']"
   ]
  },
  {
   "cell_type": "code",
   "execution_count": 33,
   "metadata": {},
   "outputs": [
    {
     "data": {
      "text/plain": [
       "['42D', '31B', '66X', '31D', '33D', '41B', '40B', '7D', '46E', '38D']"
      ]
     },
     "execution_count": 33,
     "metadata": {},
     "output_type": "execute_result"
    }
   ],
   "source": [
    "list_of_bus_routes[100:110]"
   ]
  },
  {
   "cell_type": "code",
   "execution_count": 34,
   "metadata": {},
   "outputs": [],
   "source": [
    "ThirtyEightD= df.loc[df['LINEID'] == '38D']\n",
    "FortyTwoD = df.loc[df['LINEID'] == '42D']\n",
    "ThirtyOneB = df.loc[df['LINEID'] == '31B']\n",
    "SixtySixX = df.loc[df['LINEID'] == '66X']\n",
    "ThirtyOneD = df.loc[df['LINEID'] == '31D']\n",
    "ThirtyThreeD = df.loc[df['LINEID'] == '33D']\n",
    "FortyOneB = df.loc[df['LINEID'] == '41B']\n",
    "FortyB = df.loc[df['LINEID'] == '40B']\n",
    "SevenD = df.loc[df['LINEID'] == '7D']\n",
    "FortySixE = df.loc[df['LINEID'] == '46E']"
   ]
  },
  {
   "cell_type": "code",
   "execution_count": 35,
   "metadata": {},
   "outputs": [
    {
     "data": {
      "text/plain": [
       "['118', '51D', '15D', '41A', '25D', '66B', '38B', '236', '7B', '41X']"
      ]
     },
     "execution_count": 35,
     "metadata": {},
     "output_type": "execute_result"
    }
   ],
   "source": [
    "list_of_bus_routes[110:120]"
   ]
  },
  {
   "cell_type": "code",
   "execution_count": 36,
   "metadata": {},
   "outputs": [],
   "source": [
    "OneEighteen = df.loc[df['LINEID'] == '118']\n",
    "FiftyOneD = df.loc[df['LINEID'] == '51D']\n",
    "FifteenD = df.loc[df['LINEID'] == '15D']\n",
    "FortyOneA = df.loc[df['LINEID'] == '41A']\n",
    "TwentyFiveD = df.loc[df['LINEID'] == '25D']\n",
    "SixtySixB = df.loc[df['LINEID'] == '66B']\n",
    "ThirtyEightB = df.loc[df['LINEID'] == '38B']\n",
    "TwoThirtySix = df.loc[df['LINEID'] == '236']\n",
    "SevenB = df.loc[df['LINEID'] == '7B']\n",
    "FortyOneX = df.loc[df['LINEID'] == '41X']"
   ]
  },
  {
   "cell_type": "code",
   "execution_count": 37,
   "metadata": {},
   "outputs": [
    {
     "data": {
      "text/plain": [
       "['69X', '68X', '25X', '40E', '70D', '116', '77X', '16D', '33E', '41D']"
      ]
     },
     "execution_count": 37,
     "metadata": {},
     "output_type": "execute_result"
    }
   ],
   "source": [
    "list_of_bus_routes[120:130]"
   ]
  },
  {
   "cell_type": "code",
   "execution_count": 38,
   "metadata": {},
   "outputs": [],
   "source": [
    "SixtyNineX = df.loc[df['LINEID'] == '69X']\n",
    "SixtyEightX = df.loc[df['LINEID'] == '68X']\n",
    "TwentyFiveX = df.loc[df['LINEID'] == '25X']\n",
    "FortyE = df.loc[df['LINEID'] == '40E']\n",
    "SeventyD = df.loc[df['LINEID'] == '70D']\n",
    "OneSixteen = df.loc[df['LINEID'] == '116']\n",
    "SeventySevenX = df.loc[df['LINEID'] == '77X']\n",
    "SixteenD = df.loc[df['LINEID'] == '16D']\n",
    "ThirtyThreeE = df.loc[df['LINEID'] == '33E']\n",
    "FortyOneD = df.loc[df['LINEID'] == '41D']"
   ]
  },
  {
   "cell_type": "code",
   "execution_count": null,
   "metadata": {},
   "outputs": [],
   "source": []
  },
  {
   "cell_type": "code",
   "execution_count": 39,
   "metadata": {},
   "outputs": [],
   "source": [
    "List_of_bus_route_dataframes = [SixtyEight, TwentyFiveB, FortyFiveA, TwentyFiveA, Fourteen, SeventySevenA, ThirtyNine, Sixteen, FortyD, TwentySevenB, OneFortyTwo,\n",
    "EightyThree,\n",
    "OneThirty,\n",
    "Fifteen,\n",
    "FortySixA,\n",
    "ThirtyThree,\n",
    "Seven,\n",
    "ThirtyNineA,\n",
    "FortyNine,\n",
    "One,\n",
    "OneTwentyThree,\n",
    "FortyOne,\n",
    "SixtySevenX,\n",
    "FiftyNine,\n",
    "Nine,\n",
    "Forty,\n",
    "TwoThirtyNine,\n",
    "SeventySix,\n",
    "EightyFour,\n",
    "FiftyThree,\n",
    "OneEightyFive,\n",
    "OneFiftyOne,\n",
    "Thirteen,\n",
    "FifteenB,\n",
    "SixtyFiveB,\n",
    "TwentyNineA,\n",
    "SixtyOne,\n",
    "OneForty,\n",
    "SeventyNineA,\n",
    "ThirtyEightA,\n",
    "ThirtyOne,\n",
    "ThirtyThreeB,\n",
    "SixtyNine,\n",
    "FortyFour,\n",
    "FortyTwo,\n",
    "SixtySeven,\n",
    "OneEightyFour,\n",
    "TwoThirtyEight,\n",
    "OneFortyFive,\n",
    "SeventeenA,\n",
    "ThirtyTwo,\n",
    "TwentySevenA,\n",
    "Seventeen,\n",
    "TwentySevenX,\n",
    "Eighteen,\n",
    "OneTwentyTwo,\n",
    "FiftyFourA,\n",
    "SixtySix,\n",
    "OneFifty,\n",
    "FiftySixA,\n",
    "ThirtySeven,\n",
    "TwentySeven,\n",
    "FifteenA,\n",
    "SixtyFive,\n",
    "Eleven,\n",
    "FortySeven,\n",
    "SeventyNine,\n",
    "EightyThreeA,\n",
    "SixtyThree,\n",
    "Four,\n",
    "OneTwenty,\n",
    "FortyOneC,\n",
    "Seventy,\n",
    "EightyFourA,\n",
    "TwoTwenty,\n",
    "ThirtyNineX,\n",
    "ThirtyTwoX,\n",
    "SixtyEightA,\n",
    "EightyFourX,\n",
    "ThirtyEight,\n",
    "OneOTwo,\n",
    "TwoSeventy,\n",
    "FiftyOneX,\n",
    "ThirtyThreeX,\n",
    "SeventyFive,\n",
    "TwentySix,\n",
    "SixtySixA,\n",
    "ThirtyOneA,\n",
    "OneEleven,\n",
    "FourteenC,\n",
    "OneFourteen,\n",
    "SeventySixA,\n",
    "FortyFourB,\n",
    "OneSixtyOne,\n",
    "SevenA,\n",
    "FortyThree,\n",
    "TwentyFive,\n",
    "OneOFour,\n",
    "ThirtyThreeA,\n",
    "SixteenC,\n",
    "ThirtyEightD,\n",
    "FortyTwoD,\n",
    "ThirtyOneB,\n",
    "SixtySixX,\n",
    "ThirtyOneD,\n",
    "ThirtyThreeD,\n",
    "FortyOneB,\n",
    "FortyB,\n",
    "SevenD,\n",
    "FortySixE,\n",
    "OneEighteen,\n",
    "FiftyOneD,\n",
    "FifteenD,\n",
    "FortyOneA,\n",
    "TwentyFiveD,\n",
    "SixtySixB,\n",
    "ThirtyEightB,\n",
    "TwoThirtySix,\n",
    "SevenB,\n",
    "FortyOneX,\n",
    "SixtyNineX,\n",
    "SixtyEightX,\n",
    "TwentyFiveX,\n",
    "FortyE,\n",
    "SeventyD,\n",
    "OneSixteen,\n",
    "SeventySevenX,\n",
    "SixteenD,\n",
    "ThirtyThreeE,\n",
    "FortyOneD]                           "
   ]
  },
  {
   "cell_type": "code",
   "execution_count": 40,
   "metadata": {},
   "outputs": [
    {
     "data": {
      "text/plain": [
       "130"
      ]
     },
     "execution_count": 40,
     "metadata": {},
     "output_type": "execute_result"
    }
   ],
   "source": [
    "len(List_of_bus_route_dataframes)"
   ]
  },
  {
   "cell_type": "code",
   "execution_count": 41,
   "metadata": {},
   "outputs": [
    {
     "data": {
      "text/html": [
       "<div>\n",
       "<style scoped>\n",
       "    .dataframe tbody tr th:only-of-type {\n",
       "        vertical-align: middle;\n",
       "    }\n",
       "\n",
       "    .dataframe tbody tr th {\n",
       "        vertical-align: top;\n",
       "    }\n",
       "\n",
       "    .dataframe thead th {\n",
       "        text-align: right;\n",
       "    }\n",
       "</style>\n",
       "<table border=\"1\" class=\"dataframe\">\n",
       "  <thead>\n",
       "    <tr style=\"text-align: right;\">\n",
       "      <th></th>\n",
       "      <th>,DATASOURCE</th>\n",
       "      <th>DAYOFSERVICE</th>\n",
       "      <th>TRIPID</th>\n",
       "      <th>LINEID</th>\n",
       "      <th>ROUTEID</th>\n",
       "      <th>DIRECTION</th>\n",
       "      <th>ACTUALTIME_ARR</th>\n",
       "      <th>ACTUALTIME_DEP</th>\n",
       "    </tr>\n",
       "  </thead>\n",
       "  <tbody>\n",
       "    <tr>\n",
       "      <th>529817</th>\n",
       "      <td>529817,\"DB</td>\n",
       "      <td>2018-12-06</td>\n",
       "      <td>8159151</td>\n",
       "      <td>16D</td>\n",
       "      <td>16D_30</td>\n",
       "      <td>1</td>\n",
       "      <td>37172.0</td>\n",
       "      <td>31813.0</td>\n",
       "    </tr>\n",
       "    <tr>\n",
       "      <th>533696</th>\n",
       "      <td>533696,\"DB</td>\n",
       "      <td>2018-12-06</td>\n",
       "      <td>8159904</td>\n",
       "      <td>16D</td>\n",
       "      <td>16D_30</td>\n",
       "      <td>1</td>\n",
       "      <td>NaN</td>\n",
       "      <td>29426.0</td>\n",
       "    </tr>\n",
       "    <tr>\n",
       "      <th>533697</th>\n",
       "      <td>533697,\"DB</td>\n",
       "      <td>2018-12-06</td>\n",
       "      <td>8154707</td>\n",
       "      <td>16D</td>\n",
       "      <td>16D_30</td>\n",
       "      <td>1</td>\n",
       "      <td>34195.0</td>\n",
       "      <td>27011.0</td>\n",
       "    </tr>\n",
       "    <tr>\n",
       "      <th>533698</th>\n",
       "      <td>533698,\"DB</td>\n",
       "      <td>2018-12-06</td>\n",
       "      <td>8151574</td>\n",
       "      <td>16D</td>\n",
       "      <td>16D_30</td>\n",
       "      <td>1</td>\n",
       "      <td>34654.0</td>\n",
       "      <td>28201.0</td>\n",
       "    </tr>\n",
       "    <tr>\n",
       "      <th>544250</th>\n",
       "      <td>544250,\"DB</td>\n",
       "      <td>2018-12-06</td>\n",
       "      <td>8155404</td>\n",
       "      <td>16D</td>\n",
       "      <td>16D_30</td>\n",
       "      <td>1</td>\n",
       "      <td>31219.0</td>\n",
       "      <td>25853.0</td>\n",
       "    </tr>\n",
       "  </tbody>\n",
       "</table>\n",
       "</div>"
      ],
      "text/plain": [
       "       ,DATASOURCE DAYOFSERVICE   TRIPID LINEID ROUTEID DIRECTION  \\\n",
       "529817  529817,\"DB   2018-12-06  8159151    16D  16D_30         1   \n",
       "533696  533696,\"DB   2018-12-06  8159904    16D  16D_30         1   \n",
       "533697  533697,\"DB   2018-12-06  8154707    16D  16D_30         1   \n",
       "533698  533698,\"DB   2018-12-06  8151574    16D  16D_30         1   \n",
       "544250  544250,\"DB   2018-12-06  8155404    16D  16D_30         1   \n",
       "\n",
       "        ACTUALTIME_ARR  ACTUALTIME_DEP  \n",
       "529817         37172.0         31813.0  \n",
       "533696             NaN         29426.0  \n",
       "533697         34195.0         27011.0  \n",
       "533698         34654.0         28201.0  \n",
       "544250         31219.0         25853.0  "
      ]
     },
     "execution_count": 41,
     "metadata": {},
     "output_type": "execute_result"
    }
   ],
   "source": [
    "SixteenD.head()\n"
   ]
  },
  {
   "cell_type": "code",
   "execution_count": 42,
   "metadata": {},
   "outputs": [
    {
     "data": {
      "text/plain": [
       "(84, 8)"
      ]
     },
     "execution_count": 42,
     "metadata": {},
     "output_type": "execute_result"
    }
   ],
   "source": [
    "SixteenD.shape"
   ]
  },
  {
   "cell_type": "code",
   "execution_count": 43,
   "metadata": {},
   "outputs": [],
   "source": [
    "SixtyEight.to_csv('SixtyEight.csv') \n",
    "TwentyFiveB.to_csv('TwentyFiveB.csv')\n",
    "FortyFiveA.to_csv('FortyFiveA.csv')\n",
    "TwentyFiveA.to_csv('TwentyFiveA.csv')\n",
    "Fourteen.to_csv('Fourteen.csv') \n",
    "SeventySevenA.to_csv('SeventySevenA.csv') \n",
    "ThirtyNine.to_csv('ThirtyNine.csv') \n",
    "\n",
    "Sixteen.to_csv('Sixteen.csv') \n",
    "FortyD.to_csv('FortyD.csv') \n",
    "TwentySevenB.to_csv('TwentySevenB.csv') \n",
    "OneFortyTwo.to_csv('OneFortyTwo.csv')\n",
    "EightyThree.to_csv('EightyThree.csv')\n",
    "OneThirty.to_csv('OneThirty.csv')\n",
    "Fifteen.to_csv('Fifteen.csv')\n",
    "FortySixA.to_csv('FortySixA.csv')\n",
    "ThirtyThree.to_csv('ThirtyThree.csv')\n",
    "Seven.to_csv('Seven.csv')\n",
    "ThirtyNineA.to_csv('ThirtyNineA.csv')\n",
    "FortyNine.to_csv('FortyNine.csv')\n",
    "One.to_csv('One.csv')\n",
    "OneTwentyThree.to_csv('OneTwentyThree.csv')\n",
    "FortyOne.to_csv('FortyOne.csv')\n",
    "SixtySevenX.to_csv('SixtySevenX.csv')\n",
    "FiftyNine.to_csv('FiftyNine.csv')\n",
    "Nine.to_csv('Nine.csv')\n",
    "Forty.to_csv('Forty.csv')\n",
    "TwoThirtyNine.to_csv('TwoThirtyNine.csv')\n",
    "\n",
    "SeventySix.to_csv('SeventySix.csv')\n",
    "EightyFour.to_csv('EightyFour.csv')\n",
    "FiftyThree.to_csv('FiftyThree.csv')\n",
    "OneEightyFive.to_csv('OneEightyFive.csv')\n",
    "OneFiftyOne.to_csv('OneFiftyOne.csv')\n",
    "Thirteen.to_csv('Thirteen.csv')\n",
    "FifteenB.to_csv('FifteenB.csv')\n",
    "SixtyFiveB.to_csv('SixtyFiveB.csv')\n",
    "TwentyNineA.to_csv('TwentyNineA.csv')\n",
    "SixtyOne.to_csv('SixtyOne.csv')\n",
    "OneForty.to_csv('OneForty.csv')\n",
    "SeventyNineA.to_csv('SeventyNineA.csv')\n",
    "ThirtyEightA.to_csv('ThirtyEightA.csv')\n",
    "ThirtyOne.to_csv('ThirtyOne.csv')\n",
    "ThirtyThreeB.to_csv('ThirtyThreeB.csv')\n",
    "SixtyNine.to_csv('SixtyNine.csv')\n",
    "FortyFour.to_csv('FortyFour.csv')\n",
    "FortyTwo.to_csv('FortyTwo.csv')\n",
    "SixtySeven.to_csv('SixtySeven.csv')\n",
    "OneEightyFour.to_csv('OneEightyFour.csv')\n",
    "TwoThirtyEight.to_csv('TwoThirtyEight.csv')\n",
    "OneFortyFive.to_csv('OneFortyFive.csv')\n",
    "SeventeenA.to_csv('SeventeenA.csv')\n",
    "ThirtyTwo.to_csv('ThirtyTwo.csv')\n",
    "TwentySevenA.to_csv('TwentySevenA.csv')\n",
    "\n",
    "Seventeen.to_csv('Seventeen.csv')\n",
    "TwentySevenX.to_csv('TwentySevenX.csv')\n",
    "Eighteen.to_csv('Eighteen.csv')\n",
    "OneTwentyTwo.to_csv('OneTwentyTwo.csv')\n",
    "FiftyFourA.to_csv('FiftyFourA.csv')\n",
    "SixtySix.to_csv('SixtySix.csv')\n",
    "OneFifty.to_csv('OneFifty.csv')\n",
    "FiftySixA.to_csv('FiftySixA.csv')\n",
    "ThirtySeven.to_csv('ThirtySeven.csv')\n",
    "TwentySeven.to_csv('TwentySeven.csv')\n",
    "FifteenA.to_csv('FifteenA.csv')\n",
    "SixtyFive.to_csv('SixtyFive.csv')\n",
    "\n",
    "Eleven.to_csv('Eleven.csv')\n",
    "FortySeven.to_csv('FortySeven.csv')\n",
    "SeventyNine.to_csv('SeventyNine.csv')\n",
    "EightyThreeA.to_csv('EightyThreeA.csv')\n",
    "SixtyThree.to_csv('SixtyThree.csv')\n",
    "Four.to_csv('Four.csv')\n",
    "OneTwenty.to_csv('OneTwenty.csv')\n",
    "FortyOneC.to_csv('FortyOneC.csv')\n",
    "Seventy.to_csv('Seventy.csv')\n",
    "EightyFourA.to_csv('EightyFourA.csv')\n",
    "TwoTwenty.to_csv('TwoTwenty.csv')\n",
    "ThirtyNineX.to_csv('ThirtyNineX.csv')\n",
    "ThirtyTwoX.to_csv('ThirtyTwoX.csv')\n",
    "SixtyEightA.to_csv('SixtyEightA.csv')\n",
    "EightyFourX.to_csv('EightyFourX.csv')\n",
    "ThirtyEight.to_csv('ThirtyEight.csv')\n",
    "OneOTwo.to_csv('OneOTwo.csv')\n",
    "\n",
    "TwoSeventy.to_csv('TwoSeventy.csv')\n",
    "FiftyOneX.to_csv('FiftyOneX.csv')\n",
    "ThirtyThreeX.to_csv('ThirtyThreeX.csv')\n",
    "SeventyFive.to_csv('SeventyFive.csv')\n",
    "TwentySix.to_csv('TwentySix.csv')\n",
    "SixtySixA.to_csv('SixtySixA.csv')\n",
    "ThirtyOneA.to_csv('ThirtyOneA.csv')\n",
    "OneEleven.to_csv('OneEleven.csv')\n",
    "FourteenC.to_csv('FourteenC.csv')\n",
    "OneFourteen.to_csv('OneFourteen.csv')\n",
    "SeventySixA.to_csv('SeventySixA.csv')\n",
    "FortyFourB.to_csv('FortyFourB.csv')\n",
    "OneSixtyOne.to_csv('OneSixtyOne.csv')\n",
    "SevenA.to_csv('SevenA.csv')\n",
    "FortyThree.to_csv('FortyThree.csv')\n",
    "TwentyFive.to_csv('TwentyFive.csv')\n",
    "OneOFour.to_csv('OneOFour.csv')\n",
    "\n",
    "ThirtyThreeA.to_csv('ThirtyThreeA.csv')\n",
    "SixteenC.to_csv('SixteenC.csv')\n",
    "ThirtyEightD.to_csv('ThirtyEightD.csv')\n",
    "FortyTwoD.to_csv('FortyTwoD.csv')\n",
    "ThirtyOneB.to_csv('ThirtyOneB.csv')\n",
    "SixtySixX.to_csv('SixtySixX.csv')\n",
    "ThirtyOneD.to_csv('ThirtyOneD.csv')\n",
    "ThirtyThreeD.to_csv('ThirtyThreeD.csv')\n",
    "FortyOneB.to_csv('FortyOneB.csv')\n",
    "FortyB.to_csv('FortyB.csv')\n",
    "SevenD.to_csv('SevenD.csv')\n",
    "FortySixE.to_csv('FortySixE.csv')\n",
    "OneEighteen.to_csv('OneEighteen.csv')\n",
    "FiftyOneD.to_csv('FiftyOneD.csv')\n",
    "FifteenD.to_csv('FifteenD.csv')\n",
    "FortyOneA.to_csv('FortyOneA.csv')\n",
    "TwentyFiveD.to_csv('TwentyFiveD.csv')\n",
    "SixtySixB.to_csv('SixtySixB.csv')\n",
    "ThirtyEightB.to_csv('ThirtyEightB.csv')\n",
    "TwoThirtySix.to_csv('TwoThirtySix.csv')\n",
    "SevenB.to_csv('SevenB.csv')\n",
    "FortyOneX.to_csv('FortyOneX.csv')\n",
    "SixtyNineX.to_csv('SixtyNineX.csv')\n",
    "SixtyEightX.to_csv('SixtyEightX.csv')\n",
    "TwentyFiveX.to_csv('TwentyFiveX.csv')\n",
    "FortyE.to_csv('FortyE.csv')\n",
    "SeventyD.to_csv('SeventyD.csv')\n",
    "\n",
    "OneSixteen.to_csv('OneSixteen.csv')\n",
    "SeventySevenX.to_csv('SeventySevenX.csv')\n",
    "SixteenD.to_csv('SixteenD.csv')\n",
    "ThirtyThreeE.to_csv('ThirtyThreeE.csv')\n",
    "FortyOneD.to_csv('FortyOneD.csv')"
   ]
  },
  {
   "cell_type": "code",
   "execution_count": null,
   "metadata": {},
   "outputs": [],
   "source": []
  }
 ],
 "metadata": {
  "kernelspec": {
   "display_name": "Python 3",
   "language": "python",
   "name": "python3"
  },
  "language_info": {
   "codemirror_mode": {
    "name": "ipython",
    "version": 3
   },
   "file_extension": ".py",
   "mimetype": "text/x-python",
   "name": "python",
   "nbconvert_exporter": "python",
   "pygments_lexer": "ipython3",
   "version": "3.7.6"
  }
 },
 "nbformat": 4,
 "nbformat_minor": 4
}
